{
 "cells": [
  {
   "cell_type": "code",
   "execution_count": 21,
   "metadata": {},
   "outputs": [],
   "source": [
    "import numpy as np\n",
    "import pandas as pd\n",
    "import mysql.connector\n",
    "from sqlalchemy import create_engine\n",
    "import pandas.io.sql as psql\n",
    "from dateutil import parser"
   ]
  },
  {
   "cell_type": "code",
   "execution_count": 22,
   "metadata": {},
   "outputs": [],
   "source": [
    "df=pd.read_csv('cm26JUL2019bhav.csv')"
   ]
  },
  {
   "cell_type": "code",
   "execution_count": 23,
   "metadata": {},
   "outputs": [
    {
     "data": {
      "text/html": [
       "<div>\n",
       "<style scoped>\n",
       "    .dataframe tbody tr th:only-of-type {\n",
       "        vertical-align: middle;\n",
       "    }\n",
       "\n",
       "    .dataframe tbody tr th {\n",
       "        vertical-align: top;\n",
       "    }\n",
       "\n",
       "    .dataframe thead th {\n",
       "        text-align: right;\n",
       "    }\n",
       "</style>\n",
       "<table border=\"1\" class=\"dataframe\">\n",
       "  <thead>\n",
       "    <tr style=\"text-align: right;\">\n",
       "      <th></th>\n",
       "      <th>SYMBOL</th>\n",
       "      <th>SERIES</th>\n",
       "      <th>OPEN</th>\n",
       "      <th>HIGH</th>\n",
       "      <th>LOW</th>\n",
       "      <th>CLOSE</th>\n",
       "      <th>LAST</th>\n",
       "      <th>PREVCLOSE</th>\n",
       "      <th>TOTTRDQTY</th>\n",
       "      <th>TOTTRDVAL</th>\n",
       "      <th>TIMESTAMP</th>\n",
       "      <th>TOTALTRADES</th>\n",
       "      <th>ISIN</th>\n",
       "      <th>Unnamed: 13</th>\n",
       "    </tr>\n",
       "  </thead>\n",
       "  <tbody>\n",
       "    <tr>\n",
       "      <th>0</th>\n",
       "      <td>20MICRONS</td>\n",
       "      <td>EQ</td>\n",
       "      <td>35.9</td>\n",
       "      <td>35.90</td>\n",
       "      <td>34.7</td>\n",
       "      <td>35.15</td>\n",
       "      <td>35.05</td>\n",
       "      <td>35.10</td>\n",
       "      <td>7698</td>\n",
       "      <td>272092.80</td>\n",
       "      <td>26-JUL-2019</td>\n",
       "      <td>101</td>\n",
       "      <td>INE144J01027</td>\n",
       "      <td>NaN</td>\n",
       "    </tr>\n",
       "    <tr>\n",
       "      <th>1</th>\n",
       "      <td>3IINFOTECH</td>\n",
       "      <td>EQ</td>\n",
       "      <td>2.5</td>\n",
       "      <td>2.65</td>\n",
       "      <td>2.4</td>\n",
       "      <td>2.55</td>\n",
       "      <td>2.55</td>\n",
       "      <td>2.45</td>\n",
       "      <td>1486242</td>\n",
       "      <td>3785973.30</td>\n",
       "      <td>26-JUL-2019</td>\n",
       "      <td>616</td>\n",
       "      <td>INE748C01020</td>\n",
       "      <td>NaN</td>\n",
       "    </tr>\n",
       "    <tr>\n",
       "      <th>2</th>\n",
       "      <td>3MINDIA</td>\n",
       "      <td>EQ</td>\n",
       "      <td>20900.0</td>\n",
       "      <td>21157.65</td>\n",
       "      <td>20743.1</td>\n",
       "      <td>20903.40</td>\n",
       "      <td>20950.00</td>\n",
       "      <td>21162.15</td>\n",
       "      <td>2335</td>\n",
       "      <td>48721582.85</td>\n",
       "      <td>26-JUL-2019</td>\n",
       "      <td>578</td>\n",
       "      <td>INE470A01017</td>\n",
       "      <td>NaN</td>\n",
       "    </tr>\n",
       "    <tr>\n",
       "      <th>3</th>\n",
       "      <td>3PLAND</td>\n",
       "      <td>EQ</td>\n",
       "      <td>7.5</td>\n",
       "      <td>7.85</td>\n",
       "      <td>7.4</td>\n",
       "      <td>7.85</td>\n",
       "      <td>7.65</td>\n",
       "      <td>7.50</td>\n",
       "      <td>1425</td>\n",
       "      <td>10633.85</td>\n",
       "      <td>26-JUL-2019</td>\n",
       "      <td>8</td>\n",
       "      <td>INE105C01023</td>\n",
       "      <td>NaN</td>\n",
       "    </tr>\n",
       "    <tr>\n",
       "      <th>4</th>\n",
       "      <td>5PAISA</td>\n",
       "      <td>EQ</td>\n",
       "      <td>195.0</td>\n",
       "      <td>203.00</td>\n",
       "      <td>190.0</td>\n",
       "      <td>195.45</td>\n",
       "      <td>195.75</td>\n",
       "      <td>196.60</td>\n",
       "      <td>11362</td>\n",
       "      <td>2241283.30</td>\n",
       "      <td>26-JUL-2019</td>\n",
       "      <td>650</td>\n",
       "      <td>INE618L01018</td>\n",
       "      <td>NaN</td>\n",
       "    </tr>\n",
       "  </tbody>\n",
       "</table>\n",
       "</div>"
      ],
      "text/plain": [
       "       SYMBOL SERIES     OPEN      HIGH      LOW     CLOSE      LAST  \\\n",
       "0   20MICRONS     EQ     35.9     35.90     34.7     35.15     35.05   \n",
       "1  3IINFOTECH     EQ      2.5      2.65      2.4      2.55      2.55   \n",
       "2     3MINDIA     EQ  20900.0  21157.65  20743.1  20903.40  20950.00   \n",
       "3      3PLAND     EQ      7.5      7.85      7.4      7.85      7.65   \n",
       "4      5PAISA     EQ    195.0    203.00    190.0    195.45    195.75   \n",
       "\n",
       "   PREVCLOSE  TOTTRDQTY    TOTTRDVAL    TIMESTAMP  TOTALTRADES          ISIN  \\\n",
       "0      35.10       7698    272092.80  26-JUL-2019          101  INE144J01027   \n",
       "1       2.45    1486242   3785973.30  26-JUL-2019          616  INE748C01020   \n",
       "2   21162.15       2335  48721582.85  26-JUL-2019          578  INE470A01017   \n",
       "3       7.50       1425     10633.85  26-JUL-2019            8  INE105C01023   \n",
       "4     196.60      11362   2241283.30  26-JUL-2019          650  INE618L01018   \n",
       "\n",
       "   Unnamed: 13  \n",
       "0          NaN  \n",
       "1          NaN  \n",
       "2          NaN  \n",
       "3          NaN  \n",
       "4          NaN  "
      ]
     },
     "execution_count": 23,
     "metadata": {},
     "output_type": "execute_result"
    }
   ],
   "source": [
    "df.head()"
   ]
  },
  {
   "cell_type": "code",
   "execution_count": 24,
   "metadata": {},
   "outputs": [],
   "source": [
    "\n",
    "db_connection = mysql.connector.connect(host=\"127.0.0.1\", user=\"root\", passwd=\"subodh30oct\")\n"
   ]
  },
  {
   "cell_type": "code",
   "execution_count": 25,
   "metadata": {
    "scrolled": false
   },
   "outputs": [
    {
     "ename": "NameError",
     "evalue": "name 'os' is not defined",
     "output_type": "error",
     "traceback": [
      "\u001b[1;31m---------------------------------------------------------------------------\u001b[0m",
      "\u001b[1;31mNameError\u001b[0m                                 Traceback (most recent call last)",
      "\u001b[1;32m<ipython-input-25-2d4e45c6981b>\u001b[0m in \u001b[0;36m<module>\u001b[1;34m\u001b[0m\n\u001b[1;32m----> 1\u001b[1;33m \u001b[0mengine\u001b[0m \u001b[1;33m=\u001b[0m \u001b[0mcreate_engine\u001b[0m\u001b[1;33m(\u001b[0m\u001b[1;34m'mysql+mysqlconnector://'\u001b[0m\u001b[1;33m+\u001b[0m\u001b[0mos\u001b[0m\u001b[1;33m.\u001b[0m\u001b[0menviron\u001b[0m\u001b[1;33m[\u001b[0m\u001b[1;34m'MYSQL_USER'\u001b[0m\u001b[1;33m]\u001b[0m\u001b[1;33m+\u001b[0m\u001b[1;34m':'\u001b[0m\u001b[1;33m+\u001b[0m\u001b[0mos\u001b[0m\u001b[1;33m.\u001b[0m\u001b[0menviron\u001b[0m\u001b[1;33m[\u001b[0m\u001b[1;34m'MYSQL_PASSWORD'\u001b[0m\u001b[1;33m]\u001b[0m\u001b[1;33m+\u001b[0m\u001b[1;34m'@'\u001b[0m\u001b[1;33m+\u001b[0m\u001b[0mos\u001b[0m\u001b[1;33m.\u001b[0m\u001b[0menviron\u001b[0m\u001b[1;33m[\u001b[0m\u001b[1;34m'MYSQL_HOST_IP'\u001b[0m\u001b[1;33m]\u001b[0m\u001b[1;33m+\u001b[0m\u001b[1;34m':'\u001b[0m\u001b[1;33m+\u001b[0m\u001b[0mos\u001b[0m\u001b[1;33m.\u001b[0m\u001b[0menviron\u001b[0m\u001b[1;33m[\u001b[0m\u001b[1;34m'MYSQL_PORT'\u001b[0m\u001b[1;33m]\u001b[0m\u001b[1;33m+\u001b[0m\u001b[1;34m'/sandbox'\u001b[0m\u001b[1;33m,\u001b[0m \u001b[0mecho\u001b[0m\u001b[1;33m=\u001b[0m\u001b[1;32mFalse\u001b[0m\u001b[1;33m)\u001b[0m\u001b[1;33m\u001b[0m\u001b[1;33m\u001b[0m\u001b[0m\n\u001b[0m",
      "\u001b[1;31mNameError\u001b[0m: name 'os' is not defined"
     ]
    }
   ],
   "source": [
    "engine = create_engine('mysql+mysqlconnector://'+os.environ['MYSQL_USER']+':'+os.environ['MYSQL_PASSWORD']+'@'+os.environ['MYSQL_HOST_IP']+':'+os.environ['MYSQL_PORT']+'/sandbox', echo=False)\n"
   ]
  },
  {
   "cell_type": "code",
   "execution_count": 26,
   "metadata": {},
   "outputs": [],
   "source": [
    "df.drop(columns=['SERIES', 'LAST', 'PREVCLOSE', 'TOTTRDVAL', 'TOTALTRADES', 'ISIN', 'Unnamed: 13'], inplace=True)"
   ]
  },
  {
   "cell_type": "code",
   "execution_count": 28,
   "metadata": {},
   "outputs": [],
   "source": [
    "import sqlalchemy\n",
    "database_username = 'root'\n",
    "database_password = 'subodh30oct'\n",
    "database_ip       = '127.0.0.1'\n",
    "database_name     = 'stock'\n",
    "database_connection = sqlalchemy.create_engine('mysql+mysqlconnector://{0}:{1}@{2}/{3}'.\n",
    "                                               format(database_username, database_password, \n",
    "                                                      database_ip, database_name))\n",
    "df.to_sql(con=database_connection, name='table_name_for_df', if_exists='replace')"
   ]
  },
  {
   "cell_type": "code",
   "execution_count": null,
   "metadata": {},
   "outputs": [],
   "source": [
    "df.to.sql()"
   ]
  }
 ],
 "metadata": {
  "kernelspec": {
   "display_name": "Python 3",
   "language": "python",
   "name": "python3"
  },
  "language_info": {
   "codemirror_mode": {
    "name": "ipython",
    "version": 3
   },
   "file_extension": ".py",
   "mimetype": "text/x-python",
   "name": "python",
   "nbconvert_exporter": "python",
   "pygments_lexer": "ipython3",
   "version": "3.7.3"
  }
 },
 "nbformat": 4,
 "nbformat_minor": 2
}
