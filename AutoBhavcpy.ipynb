{
 "cells": [
  {
   "cell_type": "code",
   "execution_count": 122,
   "metadata": {
    "colab": {},
    "colab_type": "code",
    "id": "bVk-WI21ECe6"
   },
   "outputs": [],
   "source": [
    "from selenium import webdriver\n",
    "import pandas as pd"
   ]
  },
  {
   "cell_type": "code",
   "execution_count": 123,
   "metadata": {
    "colab": {},
    "colab_type": "code",
    "id": "IOG_hITGEVsk"
   },
   "outputs": [],
   "source": [
    "driver = webdriver.Chrome(\"chromedriver.exe\")\n",
    "driver.get(\"https://www.nseindia.com/products/content/equities/equities/eq_security.htm\")"
   ]
  },
  {
   "cell_type": "code",
   "execution_count": 124,
   "metadata": {
    "colab": {},
    "colab_type": "code",
    "id": "ysD0v6_rEcB6"
   },
   "outputs": [],
   "source": [
    "symbol = driver.find_element_by_id('symbol')\n",
    "rangRadioBtn= driver.find_element_by_id('rdDateToDate')\n",
    "fromDate = driver.find_element_by_id('fromDate')\n",
    "toDate= driver.find_element_by_id('toDate')\n",
    "submitBtn= driver.find_element_by_id('get')\n",
    "symbol.send_keys('Kewal Kiran Clothing')#Symbol Name\n",
    "rangRadioBtn.click();\n",
    "fromDate.send_keys('17-05-2017')#date should be in this fromat only\n",
    "toDate.send_keys('02-06-2017')\n",
    "# symbol.submit()\n",
    "submitBtn.click();"
   ]
  },
  {
   "cell_type": "code",
   "execution_count": 125,
   "metadata": {
    "colab": {},
    "colab_type": "code",
    "id": "B5Jeap_WEfvE"
   },
   "outputs": [
    {
     "data": {
      "text/plain": [
       "'Symbol Series Date Prev Close Open Price High Price Low Price Last Price Close Price VWAP Total Traded\\nQuantity Turnover\\nNo. of\\nTrades Deliverable\\nQty % Dly Qt to\\nTraded Qty\\nKKCL EQ 17-May-2017 1,714.00 1,722.00 1,782.70 1,722.00 1,740.00 1,742.20 1,743.75 1,255 21,88,409.80 178 800 63.75\\nKKCL EQ 18-May-2017 1,742.20 1,742.20 1,742.20 1,711.00 1,719.75 1,717.70 1,722.29 607 10,45,429.00 83 394 64.91\\nKKCL EQ 19-May-2017 1,717.70 1,715.00 1,744.95 1,679.00 1,740.00 1,735.05 1,719.20 1,358 23,34,667.70 157 512 37.70\\nKKCL EQ 22-May-2017 1,735.05 1,706.05 1,749.00 1,706.05 1,736.00 1,733.30 1,735.48 175 3,03,709.65 54 92 52.57\\nKKCL EQ 23-May-2017 1,733.30 1,717.00 1,736.05 1,695.65 1,727.20 1,727.20 1,726.06 641 11,06,405.40 39 572 89.24\\nKKCL EQ 24-May-2017 1,727.20 1,713.00 1,719.90 1,695.00 1,704.20 1,703.35 1,707.01 211 3,60,179.25 39 167 79.15\\nKKCL EQ 25-May-2017 1,703.35 1,703.35 1,722.00 1,703.35 1,705.05 1,712.75 1,712.03 99 1,69,490.85 33 48 48.48\\nKKCL EQ 26-May-2017 1,712.75 1,757.75 1,757.80 1,711.85 1,713.40 1,713.40 1,716.54 147 2,52,331.50 24 88 59.86\\nKKCL EQ 29-May-2017 1,713.40 1,705.05 1,725.00 1,688.00 1,710.00 1,710.00 1,710.36 395 6,75,592.00 53 352 89.11\\nKKCL EQ 30-May-2017 1,710.00 1,710.00 1,715.00 1,692.95 1,715.00 1,715.00 1,708.48 42 71,756.05 11 33 78.57\\nKKCL EQ 31-May-2017 1,715.00 1,715.00 1,718.00 1,700.35 1,718.00 1,718.00 1,715.15 135 2,31,545.45 22 114 84.44\\nKKCL EQ 01-Jun-2017 1,718.00 1,718.00 1,730.00 1,698.15 1,715.10 1,714.60 1,714.39 2,036 34,90,507.20 68 1,889 92.78\\nKKCL EQ 02-Jun-2017 1,714.60 1,705.90 1,736.75 1,705.90 1,706.10 1,720.35 1,726.23 131 2,26,135.60 25 79 60.31'"
      ]
     },
     "execution_count": 125,
     "metadata": {},
     "output_type": "execute_result"
    }
   ],
   "source": [
    "# table = driver.find_all('table')[0] \n",
    "# cellText =driver.find_element_by_class_name('archives')\n",
    "# cellText.get_attribute('innerHTML')\n",
    "tableData = driver.find_element_by_xpath(\"//div[@id='historicalData']/table\")\n",
    "temp=tableData.text\n",
    "temp"
   ]
  },
  {
   "cell_type": "code",
   "execution_count": 126,
   "metadata": {},
   "outputs": [
    {
     "name": "stdout",
     "output_type": "stream",
     "text": [
      "<class 'str'>\n"
     ]
    }
   ],
   "source": [
    "print(type(temp))"
   ]
  },
  {
   "cell_type": "code",
   "execution_count": 127,
   "metadata": {},
   "outputs": [
    {
     "data": {
      "text/plain": [
       "19"
      ]
     },
     "execution_count": 127,
     "metadata": {},
     "output_type": "execute_result"
    }
   ],
   "source": [
    "tableclean=temp.split('\\n')\n",
    "size=len(tableclean)\n",
    "size"
   ]
  },
  {
   "cell_type": "code",
   "execution_count": 128,
   "metadata": {},
   "outputs": [
    {
     "data": {
      "text/plain": [
       "['Symbol Series Date Prev Close Open Price High Price Low Price Last Price Close Price VWAP Total Traded',\n",
       " 'Quantity Turnover',\n",
       " 'No. of',\n",
       " 'Trades Deliverable',\n",
       " 'Qty % Dly Qt to',\n",
       " 'Traded Qty',\n",
       " 'KKCL EQ 17-May-2017 1,714.00 1,722.00 1,782.70 1,722.00 1,740.00 1,742.20 1,743.75 1,255 21,88,409.80 178 800 63.75',\n",
       " 'KKCL EQ 18-May-2017 1,742.20 1,742.20 1,742.20 1,711.00 1,719.75 1,717.70 1,722.29 607 10,45,429.00 83 394 64.91',\n",
       " 'KKCL EQ 19-May-2017 1,717.70 1,715.00 1,744.95 1,679.00 1,740.00 1,735.05 1,719.20 1,358 23,34,667.70 157 512 37.70',\n",
       " 'KKCL EQ 22-May-2017 1,735.05 1,706.05 1,749.00 1,706.05 1,736.00 1,733.30 1,735.48 175 3,03,709.65 54 92 52.57',\n",
       " 'KKCL EQ 23-May-2017 1,733.30 1,717.00 1,736.05 1,695.65 1,727.20 1,727.20 1,726.06 641 11,06,405.40 39 572 89.24',\n",
       " 'KKCL EQ 24-May-2017 1,727.20 1,713.00 1,719.90 1,695.00 1,704.20 1,703.35 1,707.01 211 3,60,179.25 39 167 79.15',\n",
       " 'KKCL EQ 25-May-2017 1,703.35 1,703.35 1,722.00 1,703.35 1,705.05 1,712.75 1,712.03 99 1,69,490.85 33 48 48.48',\n",
       " 'KKCL EQ 26-May-2017 1,712.75 1,757.75 1,757.80 1,711.85 1,713.40 1,713.40 1,716.54 147 2,52,331.50 24 88 59.86',\n",
       " 'KKCL EQ 29-May-2017 1,713.40 1,705.05 1,725.00 1,688.00 1,710.00 1,710.00 1,710.36 395 6,75,592.00 53 352 89.11',\n",
       " 'KKCL EQ 30-May-2017 1,710.00 1,710.00 1,715.00 1,692.95 1,715.00 1,715.00 1,708.48 42 71,756.05 11 33 78.57',\n",
       " 'KKCL EQ 31-May-2017 1,715.00 1,715.00 1,718.00 1,700.35 1,718.00 1,718.00 1,715.15 135 2,31,545.45 22 114 84.44',\n",
       " 'KKCL EQ 01-Jun-2017 1,718.00 1,718.00 1,730.00 1,698.15 1,715.10 1,714.60 1,714.39 2,036 34,90,507.20 68 1,889 92.78',\n",
       " 'KKCL EQ 02-Jun-2017 1,714.60 1,705.90 1,736.75 1,705.90 1,706.10 1,720.35 1,726.23 131 2,26,135.60 25 79 60.31']"
      ]
     },
     "execution_count": 128,
     "metadata": {},
     "output_type": "execute_result"
    }
   ],
   "source": [
    "tableclean"
   ]
  },
  {
   "cell_type": "code",
   "execution_count": 129,
   "metadata": {},
   "outputs": [],
   "source": [
    "closeval=[]"
   ]
  },
  {
   "cell_type": "code",
   "execution_count": 130,
   "metadata": {},
   "outputs": [],
   "source": [
    "for i in range(6,size):\n",
    "    temp2 = tableclean[i]\n",
    "    tabclean2 = temp2.split(\" \")\n",
    "    requiredval=tabclean2[8]\n",
    "    closeval.append(requiredval)\n",
    "\n",
    "#    print(requiredval)"
   ]
  },
  {
   "cell_type": "code",
   "execution_count": 131,
   "metadata": {},
   "outputs": [],
   "source": [
    "dfclose = pd.DataFrame({'closeval':closeval})"
   ]
  },
  {
   "cell_type": "code",
   "execution_count": 132,
   "metadata": {},
   "outputs": [
    {
     "data": {
      "text/html": [
       "<div>\n",
       "<style scoped>\n",
       "    .dataframe tbody tr th:only-of-type {\n",
       "        vertical-align: middle;\n",
       "    }\n",
       "\n",
       "    .dataframe tbody tr th {\n",
       "        vertical-align: top;\n",
       "    }\n",
       "\n",
       "    .dataframe thead th {\n",
       "        text-align: right;\n",
       "    }\n",
       "</style>\n",
       "<table border=\"1\" class=\"dataframe\">\n",
       "  <thead>\n",
       "    <tr style=\"text-align: right;\">\n",
       "      <th></th>\n",
       "      <th>closeval</th>\n",
       "    </tr>\n",
       "  </thead>\n",
       "  <tbody>\n",
       "    <tr>\n",
       "      <th>0</th>\n",
       "      <td>1,742.20</td>\n",
       "    </tr>\n",
       "    <tr>\n",
       "      <th>1</th>\n",
       "      <td>1,717.70</td>\n",
       "    </tr>\n",
       "    <tr>\n",
       "      <th>2</th>\n",
       "      <td>1,735.05</td>\n",
       "    </tr>\n",
       "    <tr>\n",
       "      <th>3</th>\n",
       "      <td>1,733.30</td>\n",
       "    </tr>\n",
       "    <tr>\n",
       "      <th>4</th>\n",
       "      <td>1,727.20</td>\n",
       "    </tr>\n",
       "    <tr>\n",
       "      <th>5</th>\n",
       "      <td>1,703.35</td>\n",
       "    </tr>\n",
       "    <tr>\n",
       "      <th>6</th>\n",
       "      <td>1,712.75</td>\n",
       "    </tr>\n",
       "    <tr>\n",
       "      <th>7</th>\n",
       "      <td>1,713.40</td>\n",
       "    </tr>\n",
       "    <tr>\n",
       "      <th>8</th>\n",
       "      <td>1,710.00</td>\n",
       "    </tr>\n",
       "    <tr>\n",
       "      <th>9</th>\n",
       "      <td>1,715.00</td>\n",
       "    </tr>\n",
       "    <tr>\n",
       "      <th>10</th>\n",
       "      <td>1,718.00</td>\n",
       "    </tr>\n",
       "    <tr>\n",
       "      <th>11</th>\n",
       "      <td>1,714.60</td>\n",
       "    </tr>\n",
       "    <tr>\n",
       "      <th>12</th>\n",
       "      <td>1,720.35</td>\n",
       "    </tr>\n",
       "  </tbody>\n",
       "</table>\n",
       "</div>"
      ],
      "text/plain": [
       "    closeval\n",
       "0   1,742.20\n",
       "1   1,717.70\n",
       "2   1,735.05\n",
       "3   1,733.30\n",
       "4   1,727.20\n",
       "5   1,703.35\n",
       "6   1,712.75\n",
       "7   1,713.40\n",
       "8   1,710.00\n",
       "9   1,715.00\n",
       "10  1,718.00\n",
       "11  1,714.60\n",
       "12  1,720.35"
      ]
     },
     "execution_count": 132,
     "metadata": {},
     "output_type": "execute_result"
    }
   ],
   "source": [
    "dfclose"
   ]
  },
  {
   "cell_type": "code",
   "execution_count": 0,
   "metadata": {
    "colab": {},
    "colab_type": "code",
    "id": "NAcb3nMbF-Oa"
   },
   "outputs": [],
   "source": [
    "driver.close()"
   ]
  }
 ],
 "metadata": {
  "colab": {
   "collapsed_sections": [],
   "name": "AutoBhavcpy.ipynb",
   "provenance": [],
   "version": "0.3.2"
  },
  "kernelspec": {
   "display_name": "Python 3",
   "language": "python",
   "name": "python3"
  },
  "language_info": {
   "codemirror_mode": {
    "name": "ipython",
    "version": 3
   },
   "file_extension": ".py",
   "mimetype": "text/x-python",
   "name": "python",
   "nbconvert_exporter": "python",
   "pygments_lexer": "ipython3",
   "version": "3.7.3"
  }
 },
 "nbformat": 4,
 "nbformat_minor": 1
}
