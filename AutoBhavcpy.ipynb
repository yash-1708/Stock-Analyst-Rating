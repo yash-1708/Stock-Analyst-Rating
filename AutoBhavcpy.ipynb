{
  "nbformat": 4,
  "nbformat_minor": 0,
  "metadata": {
    "colab": {
      "name": "AutoBhavcpy.ipynb",
      "version": "0.3.2",
      "provenance": [],
      "collapsed_sections": [],
      "include_colab_link": true
    },
    "kernelspec": {
      "name": "python3",
      "display_name": "Python 3"
    }
  },
  "cells": [
    {
      "cell_type": "markdown",
      "metadata": {
        "id": "view-in-github",
        "colab_type": "text"
      },
      "source": [
        "<a href=\"https://colab.research.google.com/github/yash-1708/Stock-Analyst-Rating/blob/master/AutoBhavcpy.ipynb\" target=\"_parent\"><img src=\"https://colab.research.google.com/assets/colab-badge.svg\" alt=\"Open In Colab\"/></a>"
      ]
    },
    {
      "cell_type": "code",
      "metadata": {
        "id": "bVk-WI21ECe6",
        "colab_type": "code",
        "colab": {}
      },
      "source": [
        "from selenium import webdriver"
      ],
      "execution_count": 0,
      "outputs": []
    },
    {
      "cell_type": "code",
      "metadata": {
        "id": "IOG_hITGEVsk",
        "colab_type": "code",
        "colab": {}
      },
      "source": [
        "driver = webdriver.Chrome(\"chromedriver.exe\")\n",
        "driver.get(\"https://www.nseindia.com/products/content/equities/equities/eq_security.htm\")"
      ],
      "execution_count": 0,
      "outputs": []
    },
    {
      "cell_type": "code",
      "metadata": {
        "id": "ysD0v6_rEcB6",
        "colab_type": "code",
        "colab": {}
      },
      "source": [
        "symbol = driver.find_element_by_id('symbol')\n",
        "rangRadioBtn= driver.find_element_by_id('rdDateToDate')\n",
        "fromDate = driver.find_element_by_id('fromDate')\n",
        "toDate= driver.find_element_by_id('toDate')\n",
        "submitBtn= driver.find_element_by_id('get')\n",
        "symbol.send_keys('idea')#Symbol Name\n",
        "rangRadioBtn.click();\n",
        "fromDate.send_keys('03-09-2019')#date should be in this fromat only\n",
        "toDate.send_keys('03-09-2019')\n",
        "# symbol.submit()\n",
        "submitBtn.click();"
      ],
      "execution_count": 0,
      "outputs": []
    },
    {
      "cell_type": "code",
      "metadata": {
        "id": "B5Jeap_WEfvE",
        "colab_type": "code",
        "colab": {}
      },
      "source": [
        "# table = driver.find_all('table')[0] \n",
        "# cellText =driver.find_element_by_class_name('archives')\n",
        "# cellText.get_attribute('innerHTML')\n",
        "tableData = driver.find_element_by_xpath(\"//div[@id='historicalData']/table\")\n",
        "tableData.text"
      ],
      "execution_count": 0,
      "outputs": []
    }
  ]
}