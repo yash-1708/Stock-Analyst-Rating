{
 "cells": [
  {
   "cell_type": "code",
   "execution_count": 1,
   "metadata": {
    "colab": {},
    "colab_type": "code",
    "id": "9I_QW6GCK4CG"
   },
   "outputs": [],
   "source": [
    "from selenium import webdriver\n",
    "from bs4 import BeautifulSoup\n",
    "import pandas as pd\n",
    "import numpy as np\n",
    "import pandas as pd\n",
    "import mysql.connector\n",
    "from sqlalchemy import create_engine\n",
    "import pandas.io.sql as psql\n",
    "from dateutil import parser\n",
    "import sqlalchemy\n",
    "from datetime import datetime"
   ]
  },
  {
   "cell_type": "code",
   "execution_count": 3,
   "metadata": {
    "colab": {},
    "colab_type": "code",
    "id": "f6ZJWkiHK4CL"
   },
   "outputs": [],
   "source": [
    "driver = webdriver.Chrome(\"chromedriver.exe\")\n",
    "broker=[] #List to store name of the broker\n",
    "company_name=[] #List to store company names \n",
    "current_price=[] #List to store rating of the product\n",
    "predict_date=[]\n",
    "recomended_buying=[]\n",
    "target_price=[]\n",
    "driver.get(\"https://www.marketsmojo.com/recommendation/\")\n"
   ]
  },
  {
   "cell_type": "code",
   "execution_count": 5,
   "metadata": {
    "colab": {},
    "colab_type": "code",
    "id": "GTPTvOZuK4CP",
    "scrolled": true
   },
   "outputs": [],
   "source": [
    "content = driver.page_source\n",
    "soup = BeautifulSoup(content,'html.parser')\n",
    "Alldata=soup.select_one(\"div.righttexcontent2 div.right-table01 div.scr-result2\")\n",
    "# for row in Alldata.findAll('div',class_='middle-colum02'):\n",
    "for row in Alldata.findAll('div',attrs={'class':'middle-colum02'}):\n",
    "    broker.append(row.select(\"div.colum2-midd01 div.row div.margin-text ul.reco-price li div.text-top0 a.broker-link\")[0].get_text())\n",
    "    company_name.append(row.select(\"div.colum2-midd02 div.row div.margin-text ul.reco-price li div.text-top0 a.broker-link\")[0].get_text().replace('\\t','').replace('\\n',''))\n",
    "    current_price.append(row.select(\"div.colum2-midd03 div.row div.margin-text ul.reco-price li div.text-top0\")[0].get_text())\n",
    "    recomended_buying.append(row.select(\"div.colum2-midd04 div.row div.margin-text ul.reco-price div.text-top0\")[0].get_text())\n",
    "    target_price.append(row.select(\"div.colum2-midd05 div.row div.margin-text ul.reco-price li div.text-top0\")[0].get_text())\n",
    "    temp_data=row.select(\"div.colum2-midd04 div.row div.margin-text ul.reco-price div.colum-text-color-bott\")\n",
    "    temp_data=str(temp_data).split('on ')[1]\n",
    "    temp_data=temp_data.split('<br/')[0]\n",
    "    predict_date.append(temp_data)\n",
    "    #predict_date.append(row.select(\"div.colum2-midd04 div.row div.margin-text ul.reco-price div.colum-text-color-bott\"))\n",
    "     \n",
    "for row in Alldata.findAll('div',attrs={'class':'middle-columactive'}):\n",
    "    broker.append(row.select(\"div.colum2-midd01 div.row div.margin-text ul.reco-price li div.text-top0 a.broker-link\")[0].get_text())\n",
    "    company_name.append(row.select(\"div.colum2-midd02 div.row div.margin-text ul.reco-price li div.text-top0 a.broker-link\")[0].get_text().replace('\\t','').replace('\\n',''))\n",
    "    current_price.append(row.select(\"div.colum2-midd03 div.row div.margin-text ul.reco-price li div.text-top0\")[0].get_text())\n",
    "    recomended_buying.append(row.select(\"div.colum2-midd04 div.row div.margin-text ul.reco-price div.text-top0\")[0].get_text())\n",
    "    target_price.append(row.select(\"div.colum2-midd05 div.row div.margin-text ul.reco-price li div.text-top0\")[0].get_text())\n",
    "    temp_data=row.select(\"div.colum2-midd04 div.row div.margin-text ul.reco-price div.colum-text-color-bott\")\n",
    "    temp_data=str(temp_data).split('on ')[1]\n",
    "    temp_data=temp_data.split('<br/')[0]\n",
    "    predict_date.append(temp_data)"
   ]
  },
  {
   "cell_type": "markdown",
   "metadata": {
    "colab_type": "text",
    "id": "WTQbwZCSK4CT"
   },
   "source": [
    "Test Cell"
   ]
  },
  {
   "cell_type": "code",
   "execution_count": 6,
   "metadata": {
    "colab": {},
    "colab_type": "code",
    "id": "JDHeZemgK4CU",
    "outputId": "8ce4332e-2bd5-46b2-cd90-3e037aa4f090"
   },
   "outputs": [
    {
     "data": {
      "text/plain": [
       "'31 Oct 19'"
      ]
     },
     "execution_count": 6,
     "metadata": {},
     "output_type": "execute_result"
    }
   ],
   "source": [
    "temp_data      #test"
   ]
  },
  {
   "cell_type": "markdown",
   "metadata": {
    "colab_type": "text",
    "id": "C8R8rcSuK4CY"
   },
   "source": [
    "Classifying into different dataframes"
   ]
  },
  {
   "cell_type": "code",
   "execution_count": 7,
   "metadata": {
    "colab": {},
    "colab_type": "code",
    "id": "UJPfKVsuK4CZ"
   },
   "outputs": [],
   "source": [
    "df1 = pd.DataFrame({'broker':broker})  \n",
    "df2 = pd.DataFrame({'company_name':company_name})\n",
    "df3 = pd.DataFrame({'current_price':current_price})\n",
    "df4 = pd.DataFrame({'recomended_buing':recomended_buying})\n",
    "df5=pd.DataFrame({'target_price':target_price})\n",
    "df6=pd.DataFrame({'predict_date':predict_date})\n",
    "#dfALL = pd.DataFrame(broker,company_name,current_price,recomended_buying,target_price)\n"
   ]
  },
  {
   "cell_type": "markdown",
   "metadata": {
    "colab_type": "text",
    "id": "t0Nxo0yGK4Cc"
   },
   "source": [
    "Cleaning Data"
   ]
  },
  {
   "cell_type": "code",
   "execution_count": 8,
   "metadata": {
    "colab": {},
    "colab_type": "code",
    "id": "qH6WvFfvK4Cd"
   },
   "outputs": [],
   "source": [
    "#splitting operation\n",
    "rb=df4['recomended_buing'].str.split('Rs.').str[1] \n",
    "cp=df3['current_price'].str.split('Rs.').str[1]\n",
    "tp=df5['target_price'].str.split('Rs.').str[1]\n",
    "predict_date=df6['predict_date'].str.split('10').str[0]\n",
    "\n"
   ]
  },
  {
   "cell_type": "code",
   "execution_count": 9,
   "metadata": {
    "colab": {},
    "colab_type": "code",
    "id": "gMV2QridK4Cg",
    "outputId": "850e4111-9712-4b50-ae3c-5467e0111601",
    "scrolled": true
   },
   "outputs": [
    {
     "name": "stderr",
     "output_type": "stream",
     "text": [
      "C:\\ProgramData\\Anaconda3\\lib\\site-packages\\ipykernel_launcher.py:3: SettingWithCopyWarning: \n",
      "A value is trying to be set on a copy of a slice from a DataFrame.\n",
      "Try using .loc[row_indexer,col_indexer] = value instead\n",
      "\n",
      "See the caveats in the documentation: http://pandas.pydata.org/pandas-docs/stable/user_guide/indexing.html#returning-a-view-versus-a-copy\n",
      "  This is separate from the ipykernel package so we can avoid doing imports until\n"
     ]
    }
   ],
   "source": [
    "dfall=pd.DataFrame({'broker':broker, 'company_name':company_name, 'current_price':cp, 'recomended_buying':rb, 'predict_date':predict_date, 'target_price':tp})\n",
    "dfallclean = dfall[dfall['predict_date']!='']\n",
    "dfallclean['predict_date'] =  pd.to_datetime(dfallclean['predict_date'], format='%d %b %y')"
   ]
  },
  {
   "cell_type": "code",
   "execution_count": 10,
   "metadata": {
    "colab": {},
    "colab_type": "code",
    "id": "vsvpCI-WK4Ck",
    "outputId": "32b3b62a-a2bf-45e1-8c7e-ee525189ddec",
    "scrolled": false
   },
   "outputs": [
    {
     "data": {
      "text/html": [
       "<div>\n",
       "<style scoped>\n",
       "    .dataframe tbody tr th:only-of-type {\n",
       "        vertical-align: middle;\n",
       "    }\n",
       "\n",
       "    .dataframe tbody tr th {\n",
       "        vertical-align: top;\n",
       "    }\n",
       "\n",
       "    .dataframe thead th {\n",
       "        text-align: right;\n",
       "    }\n",
       "</style>\n",
       "<table border=\"1\" class=\"dataframe\">\n",
       "  <thead>\n",
       "    <tr style=\"text-align: right;\">\n",
       "      <th></th>\n",
       "      <th>broker</th>\n",
       "      <th>company_name</th>\n",
       "      <th>current_price</th>\n",
       "      <th>recomended_buying</th>\n",
       "      <th>predict_date</th>\n",
       "      <th>target_price</th>\n",
       "    </tr>\n",
       "  </thead>\n",
       "  <tbody>\n",
       "    <tr>\n",
       "      <td>0</td>\n",
       "      <td>Axis Direct</td>\n",
       "      <td>Hindustan Unilever</td>\n",
       "      <td>1917.9</td>\n",
       "      <td>1928.75</td>\n",
       "      <td>2020-01-06</td>\n",
       "      <td>2175.00</td>\n",
       "    </tr>\n",
       "    <tr>\n",
       "      <td>1</td>\n",
       "      <td>HDFC Securities</td>\n",
       "      <td>Alkem Laboratories</td>\n",
       "      <td>2122.05</td>\n",
       "      <td>2089.44</td>\n",
       "      <td>2020-01-06</td>\n",
       "      <td>2650.00</td>\n",
       "    </tr>\n",
       "    <tr>\n",
       "      <td>2</td>\n",
       "      <td>Ashika Stock Broking</td>\n",
       "      <td>Alkem Laboratories</td>\n",
       "      <td>2122.05</td>\n",
       "      <td>2100.00</td>\n",
       "      <td>2020-01-06</td>\n",
       "      <td>2423.00</td>\n",
       "    </tr>\n",
       "    <tr>\n",
       "      <td>3</td>\n",
       "      <td>HDFC Securities</td>\n",
       "      <td>Karur Vysya Bank</td>\n",
       "      <td>55.9</td>\n",
       "      <td>56.85</td>\n",
       "      <td>2020-01-06</td>\n",
       "      <td>64.00</td>\n",
       "    </tr>\n",
       "    <tr>\n",
       "      <td>4</td>\n",
       "      <td>Nirmal Bang</td>\n",
       "      <td>UPL</td>\n",
       "      <td>590</td>\n",
       "      <td>595.00</td>\n",
       "      <td>2020-01-03</td>\n",
       "      <td>686.00</td>\n",
       "    </tr>\n",
       "    <tr>\n",
       "      <td>...</td>\n",
       "      <td>...</td>\n",
       "      <td>...</td>\n",
       "      <td>...</td>\n",
       "      <td>...</td>\n",
       "      <td>...</td>\n",
       "      <td>...</td>\n",
       "    </tr>\n",
       "    <tr>\n",
       "      <td>17426</td>\n",
       "      <td>ICICIdirect.com</td>\n",
       "      <td>Graphite India</td>\n",
       "      <td>290.55</td>\n",
       "      <td>285.47</td>\n",
       "      <td>2019-10-31</td>\n",
       "      <td>330.00</td>\n",
       "    </tr>\n",
       "    <tr>\n",
       "      <td>17427</td>\n",
       "      <td>Karvy Stock Broking</td>\n",
       "      <td>Cummins India</td>\n",
       "      <td>571.8</td>\n",
       "      <td>549.31</td>\n",
       "      <td>2019-10-31</td>\n",
       "      <td>545.00</td>\n",
       "    </tr>\n",
       "    <tr>\n",
       "      <td>17428</td>\n",
       "      <td>Karvy Stock Broking</td>\n",
       "      <td>Indoco Remedies</td>\n",
       "      <td>180</td>\n",
       "      <td>161.95</td>\n",
       "      <td>2019-10-31</td>\n",
       "      <td>189.00</td>\n",
       "    </tr>\n",
       "    <tr>\n",
       "      <td>17429</td>\n",
       "      <td>Geojit Financial Services</td>\n",
       "      <td>Kotak Mahindra Bank</td>\n",
       "      <td>1644</td>\n",
       "      <td>1587.58</td>\n",
       "      <td>2019-10-31</td>\n",
       "      <td>1682.00</td>\n",
       "    </tr>\n",
       "    <tr>\n",
       "      <td>17430</td>\n",
       "      <td>Prabhudas Lilladher</td>\n",
       "      <td>Sharda Cropchem</td>\n",
       "      <td>258.4</td>\n",
       "      <td>274.60</td>\n",
       "      <td>2019-10-31</td>\n",
       "      <td>306.00</td>\n",
       "    </tr>\n",
       "  </tbody>\n",
       "</table>\n",
       "<p>16770 rows × 6 columns</p>\n",
       "</div>"
      ],
      "text/plain": [
       "                          broker         company_name current_price  \\\n",
       "0                    Axis Direct   Hindustan Unilever        1917.9   \n",
       "1                HDFC Securities   Alkem Laboratories       2122.05   \n",
       "2           Ashika Stock Broking   Alkem Laboratories       2122.05   \n",
       "3                HDFC Securities     Karur Vysya Bank          55.9   \n",
       "4                    Nirmal Bang                  UPL           590   \n",
       "...                          ...                  ...           ...   \n",
       "17426            ICICIdirect.com       Graphite India        290.55   \n",
       "17427        Karvy Stock Broking        Cummins India         571.8   \n",
       "17428        Karvy Stock Broking      Indoco Remedies           180   \n",
       "17429  Geojit Financial Services  Kotak Mahindra Bank          1644   \n",
       "17430        Prabhudas Lilladher      Sharda Cropchem         258.4   \n",
       "\n",
       "      recomended_buying predict_date target_price  \n",
       "0               1928.75   2020-01-06      2175.00  \n",
       "1               2089.44   2020-01-06      2650.00  \n",
       "2               2100.00   2020-01-06      2423.00  \n",
       "3                 56.85   2020-01-06        64.00  \n",
       "4                595.00   2020-01-03       686.00  \n",
       "...                 ...          ...          ...  \n",
       "17426            285.47   2019-10-31       330.00  \n",
       "17427            549.31   2019-10-31       545.00  \n",
       "17428            161.95   2019-10-31       189.00  \n",
       "17429           1587.58   2019-10-31      1682.00  \n",
       "17430            274.60   2019-10-31       306.00  \n",
       "\n",
       "[16770 rows x 6 columns]"
      ]
     },
     "execution_count": 10,
     "metadata": {},
     "output_type": "execute_result"
    }
   ],
   "source": [
    "dfallclean"
   ]
  },
  {
   "cell_type": "code",
   "execution_count": 11,
   "metadata": {
    "colab": {},
    "colab_type": "code",
    "id": "Gu6jNm2tV1gP",
    "outputId": "a1b2d2f0-167c-4fe1-b3db-4da4d3217302"
   },
   "outputs": [
    {
     "name": "stdout",
     "output_type": "stream",
     "text": [
      "<class 'pandas.core.frame.DataFrame'>\n",
      "Int64Index: 16770 entries, 0 to 17430\n",
      "Data columns (total 6 columns):\n",
      "broker               16770 non-null object\n",
      "company_name         16770 non-null object\n",
      "current_price        16770 non-null object\n",
      "recomended_buying    16770 non-null object\n",
      "predict_date         16770 non-null datetime64[ns]\n",
      "target_price         16770 non-null object\n",
      "dtypes: datetime64[ns](1), object(5)\n",
      "memory usage: 917.1+ KB\n"
     ]
    }
   ],
   "source": [
    "dfallclean.info()"
   ]
  },
  {
   "cell_type": "code",
   "execution_count": 12,
   "metadata": {
    "colab": {},
    "colab_type": "code",
    "id": "l4sJN_hzV1gR"
   },
   "outputs": [],
   "source": [
    "database_username = 'root'\n",
    "database_password = 'yash'\n",
    "database_ip       = '127.0.0.1'\n",
    "database_name     = 'mainschema'\n",
    "database_connection = sqlalchemy.create_engine('mysql+mysqlconnector://{0}:{1}@{2}/{3}'.\n",
    "                                               format(database_username, database_password, \n",
    "                                                      database_ip, database_name))\n",
    "dfallclean.to_sql(con=database_connection, name='marketsmojorecos1', if_exists='append')"
   ]
  },
  {
   "cell_type": "code",
   "execution_count": 15,
   "metadata": {},
   "outputs": [],
   "source": [
    "dfallclean1 = dfallclean.copy()"
   ]
  },
  {
   "cell_type": "code",
   "execution_count": 16,
   "metadata": {},
   "outputs": [
    {
     "data": {
      "text/html": [
       "<div>\n",
       "<style scoped>\n",
       "    .dataframe tbody tr th:only-of-type {\n",
       "        vertical-align: middle;\n",
       "    }\n",
       "\n",
       "    .dataframe tbody tr th {\n",
       "        vertical-align: top;\n",
       "    }\n",
       "\n",
       "    .dataframe thead th {\n",
       "        text-align: right;\n",
       "    }\n",
       "</style>\n",
       "<table border=\"1\" class=\"dataframe\">\n",
       "  <thead>\n",
       "    <tr style=\"text-align: right;\">\n",
       "      <th></th>\n",
       "      <th>broker</th>\n",
       "      <th>company_name</th>\n",
       "      <th>current_price</th>\n",
       "      <th>recomended_buying</th>\n",
       "      <th>predict_date</th>\n",
       "      <th>target_price</th>\n",
       "    </tr>\n",
       "  </thead>\n",
       "  <tbody>\n",
       "    <tr>\n",
       "      <td>0</td>\n",
       "      <td>Axis Direct</td>\n",
       "      <td>Hindustan Unilever</td>\n",
       "      <td>1917.9</td>\n",
       "      <td>1928.75</td>\n",
       "      <td>2020-01-06</td>\n",
       "      <td>2175.00</td>\n",
       "    </tr>\n",
       "    <tr>\n",
       "      <td>1</td>\n",
       "      <td>HDFC Securities</td>\n",
       "      <td>Alkem Laboratories</td>\n",
       "      <td>2122.05</td>\n",
       "      <td>2089.44</td>\n",
       "      <td>2020-01-06</td>\n",
       "      <td>2650.00</td>\n",
       "    </tr>\n",
       "    <tr>\n",
       "      <td>2</td>\n",
       "      <td>Ashika Stock Broking</td>\n",
       "      <td>Alkem Laboratories</td>\n",
       "      <td>2122.05</td>\n",
       "      <td>2100.00</td>\n",
       "      <td>2020-01-06</td>\n",
       "      <td>2423.00</td>\n",
       "    </tr>\n",
       "    <tr>\n",
       "      <td>3</td>\n",
       "      <td>HDFC Securities</td>\n",
       "      <td>Karur Vysya Bank</td>\n",
       "      <td>55.9</td>\n",
       "      <td>56.85</td>\n",
       "      <td>2020-01-06</td>\n",
       "      <td>64.00</td>\n",
       "    </tr>\n",
       "    <tr>\n",
       "      <td>4</td>\n",
       "      <td>Nirmal Bang</td>\n",
       "      <td>UPL</td>\n",
       "      <td>590</td>\n",
       "      <td>595.00</td>\n",
       "      <td>2020-01-03</td>\n",
       "      <td>686.00</td>\n",
       "    </tr>\n",
       "    <tr>\n",
       "      <td>...</td>\n",
       "      <td>...</td>\n",
       "      <td>...</td>\n",
       "      <td>...</td>\n",
       "      <td>...</td>\n",
       "      <td>...</td>\n",
       "      <td>...</td>\n",
       "    </tr>\n",
       "    <tr>\n",
       "      <td>17426</td>\n",
       "      <td>ICICIdirect.com</td>\n",
       "      <td>Graphite India</td>\n",
       "      <td>290.55</td>\n",
       "      <td>285.47</td>\n",
       "      <td>2019-10-31</td>\n",
       "      <td>330.00</td>\n",
       "    </tr>\n",
       "    <tr>\n",
       "      <td>17427</td>\n",
       "      <td>Karvy Stock Broking</td>\n",
       "      <td>Cummins India</td>\n",
       "      <td>571.8</td>\n",
       "      <td>549.31</td>\n",
       "      <td>2019-10-31</td>\n",
       "      <td>545.00</td>\n",
       "    </tr>\n",
       "    <tr>\n",
       "      <td>17428</td>\n",
       "      <td>Karvy Stock Broking</td>\n",
       "      <td>Indoco Remedies</td>\n",
       "      <td>180</td>\n",
       "      <td>161.95</td>\n",
       "      <td>2019-10-31</td>\n",
       "      <td>189.00</td>\n",
       "    </tr>\n",
       "    <tr>\n",
       "      <td>17429</td>\n",
       "      <td>Geojit Financial Services</td>\n",
       "      <td>Kotak Mahindra Bank</td>\n",
       "      <td>1644</td>\n",
       "      <td>1587.58</td>\n",
       "      <td>2019-10-31</td>\n",
       "      <td>1682.00</td>\n",
       "    </tr>\n",
       "    <tr>\n",
       "      <td>17430</td>\n",
       "      <td>Prabhudas Lilladher</td>\n",
       "      <td>Sharda Cropchem</td>\n",
       "      <td>258.4</td>\n",
       "      <td>274.60</td>\n",
       "      <td>2019-10-31</td>\n",
       "      <td>306.00</td>\n",
       "    </tr>\n",
       "  </tbody>\n",
       "</table>\n",
       "<p>12822 rows × 6 columns</p>\n",
       "</div>"
      ],
      "text/plain": [
       "                          broker         company_name current_price  \\\n",
       "0                    Axis Direct   Hindustan Unilever        1917.9   \n",
       "1                HDFC Securities   Alkem Laboratories       2122.05   \n",
       "2           Ashika Stock Broking   Alkem Laboratories       2122.05   \n",
       "3                HDFC Securities     Karur Vysya Bank          55.9   \n",
       "4                    Nirmal Bang                  UPL           590   \n",
       "...                          ...                  ...           ...   \n",
       "17426            ICICIdirect.com       Graphite India        290.55   \n",
       "17427        Karvy Stock Broking        Cummins India         571.8   \n",
       "17428        Karvy Stock Broking      Indoco Remedies           180   \n",
       "17429  Geojit Financial Services  Kotak Mahindra Bank          1644   \n",
       "17430        Prabhudas Lilladher      Sharda Cropchem         258.4   \n",
       "\n",
       "      recomended_buying predict_date target_price  \n",
       "0               1928.75   2020-01-06      2175.00  \n",
       "1               2089.44   2020-01-06      2650.00  \n",
       "2               2100.00   2020-01-06      2423.00  \n",
       "3                 56.85   2020-01-06        64.00  \n",
       "4                595.00   2020-01-03       686.00  \n",
       "...                 ...          ...          ...  \n",
       "17426            285.47   2019-10-31       330.00  \n",
       "17427            549.31   2019-10-31       545.00  \n",
       "17428            161.95   2019-10-31       189.00  \n",
       "17429           1587.58   2019-10-31      1682.00  \n",
       "17430            274.60   2019-10-31       306.00  \n",
       "\n",
       "[12822 rows x 6 columns]"
      ]
     },
     "execution_count": 16,
     "metadata": {},
     "output_type": "execute_result"
    }
   ],
   "source": [
    "dfallclean1.drop_duplicates(inplace = True)\n",
    "dfallclean1"
   ]
  },
  {
   "cell_type": "code",
   "execution_count": null,
   "metadata": {},
   "outputs": [],
   "source": []
  }
 ],
 "metadata": {
  "colab": {
   "include_colab_link": true,
   "name": "scrapingmarketsmojoBIG.ipynb",
   "provenance": [],
   "version": "0.3.2"
  },
  "kernelspec": {
   "display_name": "Python 3",
   "language": "python",
   "name": "python3"
  },
  "language_info": {
   "codemirror_mode": {
    "name": "ipython",
    "version": 3
   },
   "file_extension": ".py",
   "mimetype": "text/x-python",
   "name": "python",
   "nbconvert_exporter": "python",
   "pygments_lexer": "ipython3",
   "version": "3.7.4"
  }
 },
 "nbformat": 4,
 "nbformat_minor": 1
}
