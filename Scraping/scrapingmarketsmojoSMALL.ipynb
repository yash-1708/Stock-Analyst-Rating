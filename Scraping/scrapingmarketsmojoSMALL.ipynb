{
 "cells": [
  {
   "cell_type": "markdown",
   "metadata": {
    "colab_type": "text",
    "id": "view-in-github"
   },
   "source": [
    "<a href=\"https://colab.research.google.com/github/yash-1708/Stock-Analyst-Rating/blob/master/scrapingmarketsmojoBIG.ipynb\" target=\"_parent\"><img src=\"https://colab.research.google.com/assets/colab-badge.svg\" alt=\"Open In Colab\"/></a>"
   ]
  },
  {
   "cell_type": "code",
   "execution_count": 1,
   "metadata": {
    "colab": {},
    "colab_type": "code",
    "id": "9I_QW6GCK4CG"
   },
   "outputs": [],
   "source": [
    "from selenium import webdriver\n",
    "from bs4 import BeautifulSoup\n",
    "import pandas as pd\n",
    "import numpy as np\n",
    "import pandas as pd\n",
    "import mysql.connector\n",
    "from sqlalchemy import create_engine\n",
    "import pandas.io.sql as psql\n",
    "from dateutil import parser\n",
    "import sqlalchemy\n",
    "from datetime import datetime"
   ]
  },
  {
   "cell_type": "code",
   "execution_count": 2,
   "metadata": {
    "colab": {},
    "colab_type": "code",
    "id": "f6ZJWkiHK4CL"
   },
   "outputs": [],
   "source": [
    "driver = webdriver.Chrome(\"chromedriver.exe\")\n",
    "broker=[] #List to store name of the broker\n",
    "company_name=[] #List to store company names \n",
    "current_price=[] #List to store rating of the product\n",
    "predict_date=[]\n",
    "recomended_buying=[]\n",
    "target_price=[]\n",
    "driver.get(\"https://www.marketsmojo.com/recommendation/\")\n"
   ]
  },
  {
   "cell_type": "code",
   "execution_count": 3,
   "metadata": {
    "colab": {},
    "colab_type": "code",
    "id": "GTPTvOZuK4CP",
    "scrolled": true
   },
   "outputs": [],
   "source": [
    "content = driver.page_source\n",
    "soup = BeautifulSoup(content,'html.parser')\n",
    "Alldata=soup.select_one(\"div.righttexcontent2 div.right-table01 div.scr-result2\")\n",
    "# for row in Alldata.findAll('div',class_='middle-colum02'):\n",
    "for row in Alldata.findAll('div',attrs={'class':'middle-colum02'}):\n",
    "    broker.append(row.select(\"div.colum2-midd01 div.row div.margin-text ul.reco-price li div.text-top0 a.broker-link\")[0].get_text())\n",
    "    company_name.append(row.select(\"div.colum2-midd02 div.row div.margin-text ul.reco-price li div.text-top0 a.broker-link\")[0].get_text().replace('\\t','').replace('\\n',''))\n",
    "    current_price.append(row.select(\"div.colum2-midd03 div.row div.margin-text ul.reco-price li div.text-top0\")[0].get_text())\n",
    "    recomended_buying.append(row.select(\"div.colum2-midd04 div.row div.margin-text ul.reco-price div.text-top0\")[0].get_text())\n",
    "    target_price.append(row.select(\"div.colum2-midd05 div.row div.margin-text ul.reco-price li div.text-top0\")[0].get_text())\n",
    "    temp_data=row.select(\"div.colum2-midd04 div.row div.margin-text ul.reco-price div.colum-text-color-bott\")\n",
    "    temp_data=str(temp_data).split('on ')[1]\n",
    "    temp_data=temp_data.split('<br/')[0]\n",
    "    predict_date.append(temp_data)\n",
    "    #predict_date.append(row.select(\"div.colum2-midd04 div.row div.margin-text ul.reco-price div.colum-text-color-bott\"))\n",
    "     \n",
    "for row in Alldata.findAll('div',attrs={'class':'middle-columactive'}):\n",
    "    broker.append(row.select(\"div.colum2-midd01 div.row div.margin-text ul.reco-price li div.text-top0 a.broker-link\")[0].get_text())\n",
    "    company_name.append(row.select(\"div.colum2-midd02 div.row div.margin-text ul.reco-price li div.text-top0 a.broker-link\")[0].get_text().replace('\\t','').replace('\\n',''))\n",
    "    current_price.append(row.select(\"div.colum2-midd03 div.row div.margin-text ul.reco-price li div.text-top0\")[0].get_text())\n",
    "    recomended_buying.append(row.select(\"div.colum2-midd04 div.row div.margin-text ul.reco-price div.text-top0\")[0].get_text())\n",
    "    target_price.append(row.select(\"div.colum2-midd05 div.row div.margin-text ul.reco-price li div.text-top0\")[0].get_text())\n",
    "    temp_data=row.select(\"div.colum2-midd04 div.row div.margin-text ul.reco-price div.colum-text-color-bott\")\n",
    "    temp_data=str(temp_data).split('on ')[1]\n",
    "    temp_data=temp_data.split('<br/')[0]\n",
    "    predict_date.append(temp_data)"
   ]
  },
  {
   "cell_type": "code",
   "execution_count": 4,
   "metadata": {
    "colab": {},
    "colab_type": "code",
    "id": "JDHeZemgK4CU",
    "outputId": "8ce4332e-2bd5-46b2-cd90-3e037aa4f090"
   },
   "outputs": [
    {
     "data": {
      "text/plain": [
       "'24 Oct 19'"
      ]
     },
     "execution_count": 4,
     "metadata": {},
     "output_type": "execute_result"
    }
   ],
   "source": [
    "temp_data"
   ]
  },
  {
   "cell_type": "code",
   "execution_count": 5,
   "metadata": {
    "colab": {},
    "colab_type": "code",
    "id": "UJPfKVsuK4CZ"
   },
   "outputs": [],
   "source": [
    "df1 = pd.DataFrame({'broker':broker})  \n",
    "df2 = pd.DataFrame({'company_name':company_name})\n",
    "df3 = pd.DataFrame({'current_price':current_price})\n",
    "df4 = pd.DataFrame({'recomended_buing':recomended_buying})\n",
    "df5=pd.DataFrame({'target_price':target_price})\n",
    "df6=pd.DataFrame({'predict_date':predict_date})"
   ]
  },
  {
   "cell_type": "code",
   "execution_count": 6,
   "metadata": {
    "colab": {},
    "colab_type": "code",
    "id": "qH6WvFfvK4Cd"
   },
   "outputs": [],
   "source": [
    "rb=df4['recomended_buing'].str.split('Rs.').str[1] \n",
    "cp=df3['current_price'].str.split('Rs.').str[1]\n",
    "tp=df5['target_price'].str.split('Rs.').str[1]\n",
    "predict_date=df6['predict_date'].str.split('10').str[0]"
   ]
  },
  {
   "cell_type": "code",
   "execution_count": 7,
   "metadata": {
    "colab": {},
    "colab_type": "code",
    "id": "gMV2QridK4Cg",
    "outputId": "850e4111-9712-4b50-ae3c-5467e0111601",
    "scrolled": true
   },
   "outputs": [
    {
     "name": "stderr",
     "output_type": "stream",
     "text": [
      "C:\\ProgramData\\Anaconda3\\lib\\site-packages\\ipykernel_launcher.py:3: SettingWithCopyWarning: \n",
      "A value is trying to be set on a copy of a slice from a DataFrame.\n",
      "Try using .loc[row_indexer,col_indexer] = value instead\n",
      "\n",
      "See the caveats in the documentation: http://pandas.pydata.org/pandas-docs/stable/user_guide/indexing.html#returning-a-view-versus-a-copy\n",
      "  This is separate from the ipykernel package so we can avoid doing imports until\n"
     ]
    }
   ],
   "source": [
    "dfall=pd.DataFrame({'broker':broker, 'company_name':company_name, 'current_price':cp, 'recomended_buying':rb, 'predict_date':predict_date, 'target_price':tp})\n",
    "dfallclean = dfall[dfall['predict_date']!='']\n",
    "dfallclean['predict_date'] =  pd.to_datetime(dfallclean['predict_date'], format='%d %b %y')"
   ]
  },
  {
   "cell_type": "code",
   "execution_count": 8,
   "metadata": {
    "colab": {},
    "colab_type": "code",
    "id": "vsvpCI-WK4Ck",
    "outputId": "32b3b62a-a2bf-45e1-8c7e-ee525189ddec",
    "scrolled": true
   },
   "outputs": [
    {
     "data": {
      "text/html": [
       "<div>\n",
       "<style scoped>\n",
       "    .dataframe tbody tr th:only-of-type {\n",
       "        vertical-align: middle;\n",
       "    }\n",
       "\n",
       "    .dataframe tbody tr th {\n",
       "        vertical-align: top;\n",
       "    }\n",
       "\n",
       "    .dataframe thead th {\n",
       "        text-align: right;\n",
       "    }\n",
       "</style>\n",
       "<table border=\"1\" class=\"dataframe\">\n",
       "  <thead>\n",
       "    <tr style=\"text-align: right;\">\n",
       "      <th></th>\n",
       "      <th>broker</th>\n",
       "      <th>company_name</th>\n",
       "      <th>current_price</th>\n",
       "      <th>recomended_buying</th>\n",
       "      <th>predict_date</th>\n",
       "      <th>target_price</th>\n",
       "    </tr>\n",
       "  </thead>\n",
       "  <tbody>\n",
       "    <tr>\n",
       "      <td>0</td>\n",
       "      <td>Kotak Securities</td>\n",
       "      <td>Arvind</td>\n",
       "      <td>41.65</td>\n",
       "      <td>43.10</td>\n",
       "      <td>2020-02-05</td>\n",
       "      <td>57.00</td>\n",
       "    </tr>\n",
       "    <tr>\n",
       "      <td>1</td>\n",
       "      <td>Prabhudas Lilladher</td>\n",
       "      <td>Shaily Engg. Plastic</td>\n",
       "      <td>554.7</td>\n",
       "      <td>570.00</td>\n",
       "      <td>2020-02-05</td>\n",
       "      <td>691.00</td>\n",
       "    </tr>\n",
       "    <tr>\n",
       "      <td>2</td>\n",
       "      <td>Geojit Financial Services</td>\n",
       "      <td>Can Fin Homes</td>\n",
       "      <td>479.4</td>\n",
       "      <td>483.15</td>\n",
       "      <td>2020-02-05</td>\n",
       "      <td>557.00</td>\n",
       "    </tr>\n",
       "    <tr>\n",
       "      <td>3</td>\n",
       "      <td>Geojit Financial Services</td>\n",
       "      <td>M&amp;M Financial</td>\n",
       "      <td>388</td>\n",
       "      <td>367.90</td>\n",
       "      <td>2020-02-05</td>\n",
       "      <td>416.00</td>\n",
       "    </tr>\n",
       "    <tr>\n",
       "      <td>4</td>\n",
       "      <td>Prabhudas Lilladher</td>\n",
       "      <td>Exide Inds</td>\n",
       "      <td>186.35</td>\n",
       "      <td>188.45</td>\n",
       "      <td>2020-02-05</td>\n",
       "      <td>214.00</td>\n",
       "    </tr>\n",
       "    <tr>\n",
       "      <td>...</td>\n",
       "      <td>...</td>\n",
       "      <td>...</td>\n",
       "      <td>...</td>\n",
       "      <td>...</td>\n",
       "      <td>...</td>\n",
       "      <td>...</td>\n",
       "    </tr>\n",
       "    <tr>\n",
       "      <td>2142</td>\n",
       "      <td>Prabhudas Lilladher</td>\n",
       "      <td>M&amp;M Financial</td>\n",
       "      <td>388</td>\n",
       "      <td>333.25</td>\n",
       "      <td>2019-10-24</td>\n",
       "      <td>362.00</td>\n",
       "    </tr>\n",
       "    <tr>\n",
       "      <td>2143</td>\n",
       "      <td>Prabhudas Lilladher</td>\n",
       "      <td>Rallis India</td>\n",
       "      <td>236.75</td>\n",
       "      <td>163.50</td>\n",
       "      <td>2019-10-24</td>\n",
       "      <td>174.00</td>\n",
       "    </tr>\n",
       "    <tr>\n",
       "      <td>2144</td>\n",
       "      <td>Prabhudas Lilladher</td>\n",
       "      <td>CEAT</td>\n",
       "      <td>984</td>\n",
       "      <td>969.15</td>\n",
       "      <td>2019-10-24</td>\n",
       "      <td>827.00</td>\n",
       "    </tr>\n",
       "    <tr>\n",
       "      <td>2145</td>\n",
       "      <td>Prabhudas Lilladher</td>\n",
       "      <td>Inox Leisure</td>\n",
       "      <td>411.95</td>\n",
       "      <td>354.20</td>\n",
       "      <td>2019-10-24</td>\n",
       "      <td>416.00</td>\n",
       "    </tr>\n",
       "    <tr>\n",
       "      <td>2146</td>\n",
       "      <td>Prabhudas Lilladher</td>\n",
       "      <td>ICICI Prudential</td>\n",
       "      <td>477.05</td>\n",
       "      <td>485.00</td>\n",
       "      <td>2019-10-24</td>\n",
       "      <td>544.00</td>\n",
       "    </tr>\n",
       "  </tbody>\n",
       "</table>\n",
       "<p>2102 rows × 6 columns</p>\n",
       "</div>"
      ],
      "text/plain": [
       "                         broker          company_name current_price  \\\n",
       "0              Kotak Securities                Arvind         41.65   \n",
       "1           Prabhudas Lilladher  Shaily Engg. Plastic         554.7   \n",
       "2     Geojit Financial Services         Can Fin Homes         479.4   \n",
       "3     Geojit Financial Services         M&M Financial           388   \n",
       "4           Prabhudas Lilladher            Exide Inds        186.35   \n",
       "...                         ...                   ...           ...   \n",
       "2142        Prabhudas Lilladher         M&M Financial           388   \n",
       "2143        Prabhudas Lilladher          Rallis India        236.75   \n",
       "2144        Prabhudas Lilladher                  CEAT           984   \n",
       "2145        Prabhudas Lilladher          Inox Leisure        411.95   \n",
       "2146        Prabhudas Lilladher      ICICI Prudential        477.05   \n",
       "\n",
       "     recomended_buying predict_date target_price  \n",
       "0                43.10   2020-02-05        57.00  \n",
       "1               570.00   2020-02-05       691.00  \n",
       "2               483.15   2020-02-05       557.00  \n",
       "3               367.90   2020-02-05       416.00  \n",
       "4               188.45   2020-02-05       214.00  \n",
       "...                ...          ...          ...  \n",
       "2142            333.25   2019-10-24       362.00  \n",
       "2143            163.50   2019-10-24       174.00  \n",
       "2144            969.15   2019-10-24       827.00  \n",
       "2145            354.20   2019-10-24       416.00  \n",
       "2146            485.00   2019-10-24       544.00  \n",
       "\n",
       "[2102 rows x 6 columns]"
      ]
     },
     "execution_count": 8,
     "metadata": {},
     "output_type": "execute_result"
    }
   ],
   "source": [
    "dfallclean"
   ]
  },
  {
   "cell_type": "code",
   "execution_count": 9,
   "metadata": {},
   "outputs": [],
   "source": [
    "database_username = 'smarsproddbuser@mbt-smars-mysql'\n",
    "database_password = 'modern@1234'\n",
    "database_ip       = 'mbt-smars-mysql.mysql.database.azure.com'\n",
    "database_name     = 'mainschema'\n",
    "database_connection = sqlalchemy.create_engine('mysql+mysqlconnector://{0}:{1}@{2}/{3}'.\n",
    "                                               format(database_username, database_password, \n",
    "                                                      database_ip, database_name))"
   ]
  },
  {
   "cell_type": "code",
   "execution_count": 10,
   "metadata": {},
   "outputs": [],
   "source": [
    "maxdate = pd.read_sql('SELECT MAX(predict_date) FROM marketsmojorecos', con=database_connection)"
   ]
  },
  {
   "cell_type": "code",
   "execution_count": 11,
   "metadata": {},
   "outputs": [
    {
     "data": {
      "text/html": [
       "<div>\n",
       "<style scoped>\n",
       "    .dataframe tbody tr th:only-of-type {\n",
       "        vertical-align: middle;\n",
       "    }\n",
       "\n",
       "    .dataframe tbody tr th {\n",
       "        vertical-align: top;\n",
       "    }\n",
       "\n",
       "    .dataframe thead th {\n",
       "        text-align: right;\n",
       "    }\n",
       "</style>\n",
       "<table border=\"1\" class=\"dataframe\">\n",
       "  <thead>\n",
       "    <tr style=\"text-align: right;\">\n",
       "      <th></th>\n",
       "      <th>MAX(predict_date)</th>\n",
       "    </tr>\n",
       "  </thead>\n",
       "  <tbody>\n",
       "    <tr>\n",
       "      <td>0</td>\n",
       "      <td>2019-12-15</td>\n",
       "    </tr>\n",
       "  </tbody>\n",
       "</table>\n",
       "</div>"
      ],
      "text/plain": [
       "  MAX(predict_date)\n",
       "0        2019-12-15"
      ]
     },
     "execution_count": 11,
     "metadata": {},
     "output_type": "execute_result"
    }
   ],
   "source": [
    "maxdate"
   ]
  },
  {
   "cell_type": "code",
   "execution_count": 12,
   "metadata": {},
   "outputs": [],
   "source": [
    "a=maxdate.loc[0,'MAX(predict_date)']"
   ]
  },
  {
   "cell_type": "code",
   "execution_count": 13,
   "metadata": {},
   "outputs": [],
   "source": [
    "date_object1=maxdate['MAX(predict_date)']\n",
    "#date_object1.str\n",
    "mynew=str(a)"
   ]
  },
  {
   "cell_type": "code",
   "execution_count": 14,
   "metadata": {},
   "outputs": [],
   "source": [
    "date_object1 = datetime.strptime(mynew, '%Y-%m-%d').date()"
   ]
  },
  {
   "cell_type": "code",
   "execution_count": 15,
   "metadata": {},
   "outputs": [
    {
     "name": "stderr",
     "output_type": "stream",
     "text": [
      "C:\\ProgramData\\Anaconda3\\lib\\site-packages\\ipykernel_launcher.py:1: FutureWarning: Comparing Series of datetimes with 'datetime.date'.  Currently, the\n",
      "'datetime.date' is coerced to a datetime. In the future pandas will\n",
      "not coerce, and a TypeError will be raised. To retain the current\n",
      "behavior, convert the 'datetime.date' to a datetime with\n",
      "'pd.Timestamp'.\n",
      "  \"\"\"Entry point for launching an IPython kernel.\n"
     ]
    }
   ],
   "source": [
    "mask = (dfallclean['predict_date'] > date_object1) "
   ]
  },
  {
   "cell_type": "code",
   "execution_count": 16,
   "metadata": {},
   "outputs": [
    {
     "data": {
      "text/html": [
       "<div>\n",
       "<style scoped>\n",
       "    .dataframe tbody tr th:only-of-type {\n",
       "        vertical-align: middle;\n",
       "    }\n",
       "\n",
       "    .dataframe tbody tr th {\n",
       "        vertical-align: top;\n",
       "    }\n",
       "\n",
       "    .dataframe thead th {\n",
       "        text-align: right;\n",
       "    }\n",
       "</style>\n",
       "<table border=\"1\" class=\"dataframe\">\n",
       "  <thead>\n",
       "    <tr style=\"text-align: right;\">\n",
       "      <th></th>\n",
       "      <th>broker</th>\n",
       "      <th>company_name</th>\n",
       "      <th>current_price</th>\n",
       "      <th>recomended_buying</th>\n",
       "      <th>predict_date</th>\n",
       "      <th>target_price</th>\n",
       "    </tr>\n",
       "  </thead>\n",
       "  <tbody>\n",
       "    <tr>\n",
       "      <td>0</td>\n",
       "      <td>Kotak Securities</td>\n",
       "      <td>Arvind</td>\n",
       "      <td>41.65</td>\n",
       "      <td>43.10</td>\n",
       "      <td>2020-02-05</td>\n",
       "      <td>57.00</td>\n",
       "    </tr>\n",
       "    <tr>\n",
       "      <td>1</td>\n",
       "      <td>Prabhudas Lilladher</td>\n",
       "      <td>Shaily Engg. Plastic</td>\n",
       "      <td>554.7</td>\n",
       "      <td>570.00</td>\n",
       "      <td>2020-02-05</td>\n",
       "      <td>691.00</td>\n",
       "    </tr>\n",
       "    <tr>\n",
       "      <td>2</td>\n",
       "      <td>Geojit Financial Services</td>\n",
       "      <td>Can Fin Homes</td>\n",
       "      <td>479.4</td>\n",
       "      <td>483.15</td>\n",
       "      <td>2020-02-05</td>\n",
       "      <td>557.00</td>\n",
       "    </tr>\n",
       "    <tr>\n",
       "      <td>3</td>\n",
       "      <td>Geojit Financial Services</td>\n",
       "      <td>M&amp;M Financial</td>\n",
       "      <td>388</td>\n",
       "      <td>367.90</td>\n",
       "      <td>2020-02-05</td>\n",
       "      <td>416.00</td>\n",
       "    </tr>\n",
       "    <tr>\n",
       "      <td>4</td>\n",
       "      <td>Prabhudas Lilladher</td>\n",
       "      <td>Exide Inds</td>\n",
       "      <td>186.35</td>\n",
       "      <td>188.45</td>\n",
       "      <td>2020-02-05</td>\n",
       "      <td>214.00</td>\n",
       "    </tr>\n",
       "    <tr>\n",
       "      <td>...</td>\n",
       "      <td>...</td>\n",
       "      <td>...</td>\n",
       "      <td>...</td>\n",
       "      <td>...</td>\n",
       "      <td>...</td>\n",
       "      <td>...</td>\n",
       "    </tr>\n",
       "    <tr>\n",
       "      <td>1681</td>\n",
       "      <td>Sharekhan</td>\n",
       "      <td>Hindustan Unilever</td>\n",
       "      <td>2160.15</td>\n",
       "      <td>1922.88</td>\n",
       "      <td>2019-12-18</td>\n",
       "      <td>2185.00</td>\n",
       "    </tr>\n",
       "    <tr>\n",
       "      <td>1682</td>\n",
       "      <td>Geojit Financial Services</td>\n",
       "      <td>BPCL</td>\n",
       "      <td>501.65</td>\n",
       "      <td>496.00</td>\n",
       "      <td>2019-12-18</td>\n",
       "      <td>474.00</td>\n",
       "    </tr>\n",
       "    <tr>\n",
       "      <td>1683</td>\n",
       "      <td>Prabhudas Lilladher</td>\n",
       "      <td>HDFC</td>\n",
       "      <td>2391.45</td>\n",
       "      <td>2430.80</td>\n",
       "      <td>2019-12-18</td>\n",
       "      <td>2568.00</td>\n",
       "    </tr>\n",
       "    <tr>\n",
       "      <td>1684</td>\n",
       "      <td>ICICIdirect.com</td>\n",
       "      <td>Tech Mahindra</td>\n",
       "      <td>814.05</td>\n",
       "      <td>777.44</td>\n",
       "      <td>2019-12-17</td>\n",
       "      <td>900.00</td>\n",
       "    </tr>\n",
       "    <tr>\n",
       "      <td>1685</td>\n",
       "      <td>Axis Direct</td>\n",
       "      <td>L&amp;T Infotech</td>\n",
       "      <td>1926.2</td>\n",
       "      <td>1649.02</td>\n",
       "      <td>2019-12-16</td>\n",
       "      <td>1800.00</td>\n",
       "    </tr>\n",
       "  </tbody>\n",
       "</table>\n",
       "<p>812 rows × 6 columns</p>\n",
       "</div>"
      ],
      "text/plain": [
       "                         broker          company_name current_price  \\\n",
       "0              Kotak Securities                Arvind         41.65   \n",
       "1           Prabhudas Lilladher  Shaily Engg. Plastic         554.7   \n",
       "2     Geojit Financial Services         Can Fin Homes         479.4   \n",
       "3     Geojit Financial Services         M&M Financial           388   \n",
       "4           Prabhudas Lilladher            Exide Inds        186.35   \n",
       "...                         ...                   ...           ...   \n",
       "1681                  Sharekhan    Hindustan Unilever       2160.15   \n",
       "1682  Geojit Financial Services                  BPCL        501.65   \n",
       "1683        Prabhudas Lilladher                  HDFC       2391.45   \n",
       "1684            ICICIdirect.com         Tech Mahindra        814.05   \n",
       "1685                Axis Direct          L&T Infotech        1926.2   \n",
       "\n",
       "     recomended_buying predict_date target_price  \n",
       "0                43.10   2020-02-05        57.00  \n",
       "1               570.00   2020-02-05       691.00  \n",
       "2               483.15   2020-02-05       557.00  \n",
       "3               367.90   2020-02-05       416.00  \n",
       "4               188.45   2020-02-05       214.00  \n",
       "...                ...          ...          ...  \n",
       "1681           1922.88   2019-12-18      2185.00  \n",
       "1682            496.00   2019-12-18       474.00  \n",
       "1683           2430.80   2019-12-18      2568.00  \n",
       "1684            777.44   2019-12-17       900.00  \n",
       "1685           1649.02   2019-12-16      1800.00  \n",
       "\n",
       "[812 rows x 6 columns]"
      ]
     },
     "execution_count": 16,
     "metadata": {},
     "output_type": "execute_result"
    }
   ],
   "source": [
    "dfentry = dfallclean.loc[mask]\n",
    "dfentry"
   ]
  },
  {
   "cell_type": "code",
   "execution_count": 18,
   "metadata": {
    "colab": {},
    "colab_type": "code",
    "id": "l4sJN_hzV1gR"
   },
   "outputs": [],
   "source": [
    "\n",
    "dfentry.to_sql(con=database_connection, name='marketsmojorecos', if_exists='append')"
   ]
  },
  {
   "cell_type": "code",
   "execution_count": null,
   "metadata": {},
   "outputs": [],
   "source": []
  }
 ],
 "metadata": {
  "colab": {
   "include_colab_link": true,
   "name": "scrapingmarketsmojoBIG.ipynb",
   "provenance": [],
   "version": "0.3.2"
  },
  "kernelspec": {
   "display_name": "Python 3",
   "language": "python",
   "name": "python3"
  },
  "language_info": {
   "codemirror_mode": {
    "name": "ipython",
    "version": 3
   },
   "file_extension": ".py",
   "mimetype": "text/x-python",
   "name": "python",
   "nbconvert_exporter": "python",
   "pygments_lexer": "ipython3",
   "version": "3.7.4"
  }
 },
 "nbformat": 4,
 "nbformat_minor": 1
}
