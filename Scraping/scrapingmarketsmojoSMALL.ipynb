{
 "cells": [
  {
   "cell_type": "markdown",
   "metadata": {
    "colab_type": "text",
    "id": "view-in-github"
   },
   "source": [
    "<a href=\"https://colab.research.google.com/github/yash-1708/Stock-Analyst-Rating/blob/master/scrapingmarketsmojoBIG.ipynb\" target=\"_parent\"><img src=\"https://colab.research.google.com/assets/colab-badge.svg\" alt=\"Open In Colab\"/></a>"
   ]
  },
  {
   "cell_type": "code",
   "execution_count": 3,
   "metadata": {
    "colab": {},
    "colab_type": "code",
    "id": "9I_QW6GCK4CG"
   },
   "outputs": [],
   "source": [
    "from selenium import webdriver\n",
    "from bs4 import BeautifulSoup\n",
    "import pandas as pd\n",
    "import numpy as np\n",
    "import pandas as pd\n",
    "import mysql.connector\n",
    "from sqlalchemy import create_engine\n",
    "import pandas.io.sql as psql\n",
    "from dateutil import parser\n",
    "import sqlalchemy\n",
    "from datetime import datetime"
   ]
  },
  {
   "cell_type": "code",
   "execution_count": 4,
   "metadata": {
    "colab": {},
    "colab_type": "code",
    "id": "f6ZJWkiHK4CL"
   },
   "outputs": [],
   "source": [
    "driver = webdriver.Chrome(\"chromedriver.exe\")\n",
    "broker=[] #List to store name of the broker\n",
    "company_name=[] #List to store company names \n",
    "current_price=[] #List to store rating of the product\n",
    "predict_date=[]\n",
    "recomended_buying=[]\n",
    "target_price=[]\n",
    "driver.get(\"https://www.marketsmojo.com/recommendation/\")\n"
   ]
  },
  {
   "cell_type": "code",
   "execution_count": 5,
   "metadata": {
    "colab": {},
    "colab_type": "code",
    "id": "GTPTvOZuK4CP",
    "scrolled": true
   },
   "outputs": [],
   "source": [
    "content = driver.page_source\n",
    "soup = BeautifulSoup(content,'html.parser')\n",
    "Alldata=soup.select_one(\"div.righttexcontent2 div.right-table01 div.scr-result2\")\n",
    "# for row in Alldata.findAll('div',class_='middle-colum02'):\n",
    "for row in Alldata.findAll('div',attrs={'class':'middle-colum02'}):\n",
    "    broker.append(row.select(\"div.colum2-midd01 div.row div.margin-text ul.reco-price li div.text-top0 a.broker-link\")[0].get_text())\n",
    "    company_name.append(row.select(\"div.colum2-midd02 div.row div.margin-text ul.reco-price li div.text-top0 a.broker-link\")[0].get_text().replace('\\t','').replace('\\n',''))\n",
    "    current_price.append(row.select(\"div.colum2-midd03 div.row div.margin-text ul.reco-price li div.text-top0\")[0].get_text())\n",
    "    recomended_buying.append(row.select(\"div.colum2-midd04 div.row div.margin-text ul.reco-price div.text-top0\")[0].get_text())\n",
    "    target_price.append(row.select(\"div.colum2-midd05 div.row div.margin-text ul.reco-price li div.text-top0\")[0].get_text())\n",
    "    temp_data=row.select(\"div.colum2-midd04 div.row div.margin-text ul.reco-price div.colum-text-color-bott\")\n",
    "    temp_data=str(temp_data).split('on ')[1]\n",
    "    temp_data=temp_data.split('<br/')[0]\n",
    "    predict_date.append(temp_data)\n",
    "    #predict_date.append(row.select(\"div.colum2-midd04 div.row div.margin-text ul.reco-price div.colum-text-color-bott\"))\n",
    "     \n",
    "for row in Alldata.findAll('div',attrs={'class':'middle-columactive'}):\n",
    "    broker.append(row.select(\"div.colum2-midd01 div.row div.margin-text ul.reco-price li div.text-top0 a.broker-link\")[0].get_text())\n",
    "    company_name.append(row.select(\"div.colum2-midd02 div.row div.margin-text ul.reco-price li div.text-top0 a.broker-link\")[0].get_text().replace('\\t','').replace('\\n',''))\n",
    "    current_price.append(row.select(\"div.colum2-midd03 div.row div.margin-text ul.reco-price li div.text-top0\")[0].get_text())\n",
    "    recomended_buying.append(row.select(\"div.colum2-midd04 div.row div.margin-text ul.reco-price div.text-top0\")[0].get_text())\n",
    "    target_price.append(row.select(\"div.colum2-midd05 div.row div.margin-text ul.reco-price li div.text-top0\")[0].get_text())\n",
    "    temp_data=row.select(\"div.colum2-midd04 div.row div.margin-text ul.reco-price div.colum-text-color-bott\")\n",
    "    temp_data=str(temp_data).split('on ')[1]\n",
    "    temp_data=temp_data.split('<br/')[0]\n",
    "    predict_date.append(temp_data)"
   ]
  },
  {
   "cell_type": "code",
   "execution_count": 6,
   "metadata": {
    "colab": {},
    "colab_type": "code",
    "id": "JDHeZemgK4CU",
    "outputId": "8ce4332e-2bd5-46b2-cd90-3e037aa4f090"
   },
   "outputs": [
    {
     "data": {
      "text/plain": [
       "'04 Feb 20'"
      ]
     },
     "execution_count": 6,
     "metadata": {},
     "output_type": "execute_result"
    }
   ],
   "source": [
    "temp_data"
   ]
  },
  {
   "cell_type": "code",
   "execution_count": 7,
   "metadata": {
    "colab": {},
    "colab_type": "code",
    "id": "UJPfKVsuK4CZ"
   },
   "outputs": [],
   "source": [
    "df1 = pd.DataFrame({'broker':broker})  \n",
    "df2 = pd.DataFrame({'company_name':company_name})\n",
    "df3 = pd.DataFrame({'current_price':current_price})\n",
    "df4 = pd.DataFrame({'recomended_buing':recomended_buying})\n",
    "df5=pd.DataFrame({'target_price':target_price})\n",
    "df6=pd.DataFrame({'predict_date':predict_date})"
   ]
  },
  {
   "cell_type": "code",
   "execution_count": 8,
   "metadata": {
    "colab": {},
    "colab_type": "code",
    "id": "qH6WvFfvK4Cd"
   },
   "outputs": [],
   "source": [
    "rb=df4['recomended_buing'].str.split('Rs.').str[1] \n",
    "cp=df3['current_price'].str.split('Rs.').str[1]\n",
    "tp=df5['target_price'].str.split('Rs.').str[1]\n",
    "predict_date=df6['predict_date'].str.split('10').str[0]"
   ]
  },
  {
   "cell_type": "code",
   "execution_count": 9,
   "metadata": {
    "colab": {},
    "colab_type": "code",
    "id": "gMV2QridK4Cg",
    "outputId": "850e4111-9712-4b50-ae3c-5467e0111601",
    "scrolled": true
   },
   "outputs": [
    {
     "name": "stderr",
     "output_type": "stream",
     "text": [
      "C:\\ProgramData\\Anaconda3\\lib\\site-packages\\ipykernel_launcher.py:3: SettingWithCopyWarning: \n",
      "A value is trying to be set on a copy of a slice from a DataFrame.\n",
      "Try using .loc[row_indexer,col_indexer] = value instead\n",
      "\n",
      "See the caveats in the documentation: http://pandas.pydata.org/pandas-docs/stable/user_guide/indexing.html#returning-a-view-versus-a-copy\n",
      "  This is separate from the ipykernel package so we can avoid doing imports until\n"
     ]
    }
   ],
   "source": [
    "dfall=pd.DataFrame({'broker':broker, 'company_name':company_name, 'current_price':cp, 'recomended_buying':rb, 'predict_date':predict_date, 'target_price':tp})\n",
    "dfallclean = dfall[dfall['predict_date']!='']\n",
    "dfallclean['predict_date'] =  pd.to_datetime(dfallclean['predict_date'], format='%d %b %y')"
   ]
  },
  {
   "cell_type": "code",
   "execution_count": 10,
   "metadata": {
    "colab": {},
    "colab_type": "code",
    "id": "vsvpCI-WK4Ck",
    "outputId": "32b3b62a-a2bf-45e1-8c7e-ee525189ddec",
    "scrolled": true
   },
   "outputs": [
    {
     "data": {
      "text/html": [
       "<div>\n",
       "<style scoped>\n",
       "    .dataframe tbody tr th:only-of-type {\n",
       "        vertical-align: middle;\n",
       "    }\n",
       "\n",
       "    .dataframe tbody tr th {\n",
       "        vertical-align: top;\n",
       "    }\n",
       "\n",
       "    .dataframe thead th {\n",
       "        text-align: right;\n",
       "    }\n",
       "</style>\n",
       "<table border=\"1\" class=\"dataframe\">\n",
       "  <thead>\n",
       "    <tr style=\"text-align: right;\">\n",
       "      <th></th>\n",
       "      <th>broker</th>\n",
       "      <th>company_name</th>\n",
       "      <th>current_price</th>\n",
       "      <th>recomended_buying</th>\n",
       "      <th>predict_date</th>\n",
       "      <th>target_price</th>\n",
       "    </tr>\n",
       "  </thead>\n",
       "  <tbody>\n",
       "    <tr>\n",
       "      <td>0</td>\n",
       "      <td>Prabhudas Lilladher</td>\n",
       "      <td>Hindalco</td>\n",
       "      <td>150.15</td>\n",
       "      <td>155.75</td>\n",
       "      <td>2020-03-03</td>\n",
       "      <td>220.00</td>\n",
       "    </tr>\n",
       "    <tr>\n",
       "      <td>1</td>\n",
       "      <td>Prabhudas Lilladher</td>\n",
       "      <td>Ipca Laboratories</td>\n",
       "      <td>1445.55</td>\n",
       "      <td>1432.89</td>\n",
       "      <td>2020-03-02</td>\n",
       "      <td>1826.00</td>\n",
       "    </tr>\n",
       "    <tr>\n",
       "      <td>2</td>\n",
       "      <td>CD Equisearch</td>\n",
       "      <td>Balaji Amines</td>\n",
       "      <td>390.85</td>\n",
       "      <td>422.00</td>\n",
       "      <td>2020-02-28</td>\n",
       "      <td>543.00</td>\n",
       "    </tr>\n",
       "    <tr>\n",
       "      <td>3</td>\n",
       "      <td>Geojit Financial Services</td>\n",
       "      <td>Shree Cement</td>\n",
       "      <td>23110.2</td>\n",
       "      <td>23421.21</td>\n",
       "      <td>2020-02-27</td>\n",
       "      <td>20770.00</td>\n",
       "    </tr>\n",
       "    <tr>\n",
       "      <td>4</td>\n",
       "      <td>CD Equisearch</td>\n",
       "      <td>MM Forgings</td>\n",
       "      <td>371</td>\n",
       "      <td>400.19</td>\n",
       "      <td>2020-02-26</td>\n",
       "      <td>436.00</td>\n",
       "    </tr>\n",
       "    <tr>\n",
       "      <td>...</td>\n",
       "      <td>...</td>\n",
       "      <td>...</td>\n",
       "      <td>...</td>\n",
       "      <td>...</td>\n",
       "      <td>...</td>\n",
       "      <td>...</td>\n",
       "    </tr>\n",
       "    <tr>\n",
       "      <td>277</td>\n",
       "      <td>Karvy Stock Broking</td>\n",
       "      <td>Relaxo Footwears</td>\n",
       "      <td>702.45</td>\n",
       "      <td>739.35</td>\n",
       "      <td>2020-02-06</td>\n",
       "      <td>809.00</td>\n",
       "    </tr>\n",
       "    <tr>\n",
       "      <td>278</td>\n",
       "      <td>Dolat Capital</td>\n",
       "      <td>Firstsource Solution</td>\n",
       "      <td>40.25</td>\n",
       "      <td>42.81</td>\n",
       "      <td>2020-02-04</td>\n",
       "      <td>62.00</td>\n",
       "    </tr>\n",
       "    <tr>\n",
       "      <td>279</td>\n",
       "      <td>Angel Broking</td>\n",
       "      <td>Hawkins Cookers</td>\n",
       "      <td>4988.75</td>\n",
       "      <td>4634.39</td>\n",
       "      <td>2020-02-04</td>\n",
       "      <td>5232.00</td>\n",
       "    </tr>\n",
       "    <tr>\n",
       "      <td>280</td>\n",
       "      <td>Geojit Financial Services</td>\n",
       "      <td>Granules India</td>\n",
       "      <td>173.15</td>\n",
       "      <td>146.40</td>\n",
       "      <td>2020-02-04</td>\n",
       "      <td>175.00</td>\n",
       "    </tr>\n",
       "    <tr>\n",
       "      <td>281</td>\n",
       "      <td>Nirmal Bang</td>\n",
       "      <td>Sobha</td>\n",
       "      <td>296.65</td>\n",
       "      <td>438.05</td>\n",
       "      <td>2020-02-04</td>\n",
       "      <td>360.00</td>\n",
       "    </tr>\n",
       "  </tbody>\n",
       "</table>\n",
       "<p>238 rows × 6 columns</p>\n",
       "</div>"
      ],
      "text/plain": [
       "                        broker          company_name current_price  \\\n",
       "0          Prabhudas Lilladher              Hindalco        150.15   \n",
       "1          Prabhudas Lilladher     Ipca Laboratories       1445.55   \n",
       "2                CD Equisearch         Balaji Amines        390.85   \n",
       "3    Geojit Financial Services          Shree Cement       23110.2   \n",
       "4                CD Equisearch           MM Forgings           371   \n",
       "..                         ...                   ...           ...   \n",
       "277        Karvy Stock Broking      Relaxo Footwears        702.45   \n",
       "278              Dolat Capital  Firstsource Solution         40.25   \n",
       "279              Angel Broking       Hawkins Cookers       4988.75   \n",
       "280  Geojit Financial Services        Granules India        173.15   \n",
       "281                Nirmal Bang                 Sobha        296.65   \n",
       "\n",
       "    recomended_buying predict_date target_price  \n",
       "0              155.75   2020-03-03       220.00  \n",
       "1             1432.89   2020-03-02      1826.00  \n",
       "2              422.00   2020-02-28       543.00  \n",
       "3            23421.21   2020-02-27     20770.00  \n",
       "4              400.19   2020-02-26       436.00  \n",
       "..                ...          ...          ...  \n",
       "277            739.35   2020-02-06       809.00  \n",
       "278             42.81   2020-02-04        62.00  \n",
       "279           4634.39   2020-02-04      5232.00  \n",
       "280            146.40   2020-02-04       175.00  \n",
       "281            438.05   2020-02-04       360.00  \n",
       "\n",
       "[238 rows x 6 columns]"
      ]
     },
     "execution_count": 10,
     "metadata": {},
     "output_type": "execute_result"
    }
   ],
   "source": [
    "dfallclean"
   ]
  },
  {
   "cell_type": "code",
   "execution_count": 22,
   "metadata": {},
   "outputs": [],
   "source": [
    "database_username = 'smarsproddbuser@mbt-smars-mysql'\n",
    "database_password = 'modern@1234'\n",
    "database_ip       = 'mbt-smars-mysql.mysql.database.azure.com'\n",
    "database_name     = 'mainschema'\n",
    "database_connection = sqlalchemy.create_engine('mysql+mysqlconnector://{0}:{1}@{2}/{3}'.\n",
    "                                               format(database_username, database_password, \n",
    "                                                      database_ip, database_name))"
   ]
  },
  {
   "cell_type": "code",
   "execution_count": 23,
   "metadata": {},
   "outputs": [],
   "source": [
    "maxdate = pd.read_sql('SELECT MAX(predict_date) FROM marketsmojorecos', con=database_connection)"
   ]
  },
  {
   "cell_type": "code",
   "execution_count": 24,
   "metadata": {},
   "outputs": [
    {
     "data": {
      "text/html": [
       "<div>\n",
       "<style scoped>\n",
       "    .dataframe tbody tr th:only-of-type {\n",
       "        vertical-align: middle;\n",
       "    }\n",
       "\n",
       "    .dataframe tbody tr th {\n",
       "        vertical-align: top;\n",
       "    }\n",
       "\n",
       "    .dataframe thead th {\n",
       "        text-align: right;\n",
       "    }\n",
       "</style>\n",
       "<table border=\"1\" class=\"dataframe\">\n",
       "  <thead>\n",
       "    <tr style=\"text-align: right;\">\n",
       "      <th></th>\n",
       "      <th>MAX(predict_date)</th>\n",
       "    </tr>\n",
       "  </thead>\n",
       "  <tbody>\n",
       "    <tr>\n",
       "      <td>0</td>\n",
       "      <td>2020-03-03</td>\n",
       "    </tr>\n",
       "  </tbody>\n",
       "</table>\n",
       "</div>"
      ],
      "text/plain": [
       "  MAX(predict_date)\n",
       "0        2020-03-03"
      ]
     },
     "execution_count": 24,
     "metadata": {},
     "output_type": "execute_result"
    }
   ],
   "source": [
    "maxdate"
   ]
  },
  {
   "cell_type": "code",
   "execution_count": 14,
   "metadata": {},
   "outputs": [],
   "source": [
    "a=maxdate.loc[0,'MAX(predict_date)']"
   ]
  },
  {
   "cell_type": "code",
   "execution_count": 15,
   "metadata": {},
   "outputs": [],
   "source": [
    "date_object1=maxdate['MAX(predict_date)']\n",
    "#date_object1.str\n",
    "mynew=str(a)"
   ]
  },
  {
   "cell_type": "code",
   "execution_count": 16,
   "metadata": {},
   "outputs": [],
   "source": [
    "date_object1 = datetime.strptime(mynew, '%Y-%m-%d').date()"
   ]
  },
  {
   "cell_type": "code",
   "execution_count": 17,
   "metadata": {},
   "outputs": [
    {
     "name": "stderr",
     "output_type": "stream",
     "text": [
      "C:\\ProgramData\\Anaconda3\\lib\\site-packages\\ipykernel_launcher.py:1: FutureWarning: Comparing Series of datetimes with 'datetime.date'.  Currently, the\n",
      "'datetime.date' is coerced to a datetime. In the future pandas will\n",
      "not coerce, and a TypeError will be raised. To retain the current\n",
      "behavior, convert the 'datetime.date' to a datetime with\n",
      "'pd.Timestamp'.\n",
      "  \"\"\"Entry point for launching an IPython kernel.\n"
     ]
    }
   ],
   "source": [
    "mask = (dfallclean['predict_date'] > date_object1) "
   ]
  },
  {
   "cell_type": "code",
   "execution_count": 18,
   "metadata": {
    "scrolled": true
   },
   "outputs": [
    {
     "data": {
      "text/html": [
       "<div>\n",
       "<style scoped>\n",
       "    .dataframe tbody tr th:only-of-type {\n",
       "        vertical-align: middle;\n",
       "    }\n",
       "\n",
       "    .dataframe tbody tr th {\n",
       "        vertical-align: top;\n",
       "    }\n",
       "\n",
       "    .dataframe thead th {\n",
       "        text-align: right;\n",
       "    }\n",
       "</style>\n",
       "<table border=\"1\" class=\"dataframe\">\n",
       "  <thead>\n",
       "    <tr style=\"text-align: right;\">\n",
       "      <th></th>\n",
       "      <th>broker</th>\n",
       "      <th>company_name</th>\n",
       "      <th>current_price</th>\n",
       "      <th>recomended_buying</th>\n",
       "      <th>predict_date</th>\n",
       "      <th>target_price</th>\n",
       "    </tr>\n",
       "  </thead>\n",
       "  <tbody>\n",
       "    <tr>\n",
       "      <td>0</td>\n",
       "      <td>Prabhudas Lilladher</td>\n",
       "      <td>Hindalco</td>\n",
       "      <td>150.15</td>\n",
       "      <td>155.75</td>\n",
       "      <td>2020-03-03</td>\n",
       "      <td>220.00</td>\n",
       "    </tr>\n",
       "    <tr>\n",
       "      <td>1</td>\n",
       "      <td>Prabhudas Lilladher</td>\n",
       "      <td>Ipca Laboratories</td>\n",
       "      <td>1445.55</td>\n",
       "      <td>1432.89</td>\n",
       "      <td>2020-03-02</td>\n",
       "      <td>1826.00</td>\n",
       "    </tr>\n",
       "    <tr>\n",
       "      <td>2</td>\n",
       "      <td>CD Equisearch</td>\n",
       "      <td>Balaji Amines</td>\n",
       "      <td>390.85</td>\n",
       "      <td>422.00</td>\n",
       "      <td>2020-02-28</td>\n",
       "      <td>543.00</td>\n",
       "    </tr>\n",
       "    <tr>\n",
       "      <td>3</td>\n",
       "      <td>Geojit Financial Services</td>\n",
       "      <td>Shree Cement</td>\n",
       "      <td>23110.2</td>\n",
       "      <td>23421.21</td>\n",
       "      <td>2020-02-27</td>\n",
       "      <td>20770.00</td>\n",
       "    </tr>\n",
       "    <tr>\n",
       "      <td>4</td>\n",
       "      <td>CD Equisearch</td>\n",
       "      <td>MM Forgings</td>\n",
       "      <td>371</td>\n",
       "      <td>400.19</td>\n",
       "      <td>2020-02-26</td>\n",
       "      <td>436.00</td>\n",
       "    </tr>\n",
       "    <tr>\n",
       "      <td>...</td>\n",
       "      <td>...</td>\n",
       "      <td>...</td>\n",
       "      <td>...</td>\n",
       "      <td>...</td>\n",
       "      <td>...</td>\n",
       "      <td>...</td>\n",
       "    </tr>\n",
       "    <tr>\n",
       "      <td>273</td>\n",
       "      <td>Prabhudas Lilladher</td>\n",
       "      <td>Hero MotoCorp</td>\n",
       "      <td>2037.55</td>\n",
       "      <td>2406.37</td>\n",
       "      <td>2020-02-06</td>\n",
       "      <td>2769.00</td>\n",
       "    </tr>\n",
       "    <tr>\n",
       "      <td>274</td>\n",
       "      <td>Motilal Oswal</td>\n",
       "      <td>Ajanta Pharma</td>\n",
       "      <td>1446.75</td>\n",
       "      <td>1198.10</td>\n",
       "      <td>2020-02-06</td>\n",
       "      <td>1435.00</td>\n",
       "    </tr>\n",
       "    <tr>\n",
       "      <td>275</td>\n",
       "      <td>Prabhudas Lilladher</td>\n",
       "      <td>Max Financial</td>\n",
       "      <td>521.6</td>\n",
       "      <td>484.20</td>\n",
       "      <td>2020-02-06</td>\n",
       "      <td>610.00</td>\n",
       "    </tr>\n",
       "    <tr>\n",
       "      <td>276</td>\n",
       "      <td>Motilal Oswal</td>\n",
       "      <td>Bosch</td>\n",
       "      <td>13008.65</td>\n",
       "      <td>13782.55</td>\n",
       "      <td>2020-02-06</td>\n",
       "      <td>15150.00</td>\n",
       "    </tr>\n",
       "    <tr>\n",
       "      <td>277</td>\n",
       "      <td>Karvy Stock Broking</td>\n",
       "      <td>Relaxo Footwears</td>\n",
       "      <td>702.45</td>\n",
       "      <td>739.35</td>\n",
       "      <td>2020-02-06</td>\n",
       "      <td>809.00</td>\n",
       "    </tr>\n",
       "  </tbody>\n",
       "</table>\n",
       "<p>195 rows × 6 columns</p>\n",
       "</div>"
      ],
      "text/plain": [
       "                        broker       company_name current_price  \\\n",
       "0          Prabhudas Lilladher           Hindalco        150.15   \n",
       "1          Prabhudas Lilladher  Ipca Laboratories       1445.55   \n",
       "2                CD Equisearch      Balaji Amines        390.85   \n",
       "3    Geojit Financial Services       Shree Cement       23110.2   \n",
       "4                CD Equisearch        MM Forgings           371   \n",
       "..                         ...                ...           ...   \n",
       "273        Prabhudas Lilladher      Hero MotoCorp       2037.55   \n",
       "274              Motilal Oswal      Ajanta Pharma       1446.75   \n",
       "275        Prabhudas Lilladher      Max Financial         521.6   \n",
       "276              Motilal Oswal              Bosch      13008.65   \n",
       "277        Karvy Stock Broking   Relaxo Footwears        702.45   \n",
       "\n",
       "    recomended_buying predict_date target_price  \n",
       "0              155.75   2020-03-03       220.00  \n",
       "1             1432.89   2020-03-02      1826.00  \n",
       "2              422.00   2020-02-28       543.00  \n",
       "3            23421.21   2020-02-27     20770.00  \n",
       "4              400.19   2020-02-26       436.00  \n",
       "..                ...          ...          ...  \n",
       "273           2406.37   2020-02-06      2769.00  \n",
       "274           1198.10   2020-02-06      1435.00  \n",
       "275            484.20   2020-02-06       610.00  \n",
       "276          13782.55   2020-02-06     15150.00  \n",
       "277            739.35   2020-02-06       809.00  \n",
       "\n",
       "[195 rows x 6 columns]"
      ]
     },
     "execution_count": 18,
     "metadata": {},
     "output_type": "execute_result"
    }
   ],
   "source": [
    "dfentry = dfallclean.loc[mask]\n",
    "dfentry"
   ]
  },
  {
   "cell_type": "code",
   "execution_count": 21,
   "metadata": {
    "colab": {},
    "colab_type": "code",
    "id": "l4sJN_hzV1gR"
   },
   "outputs": [],
   "source": [
    "\n",
    "dfentry.to_sql(con=database_connection, name='marketsmojorecos', if_exists='append')"
   ]
  },
  {
   "cell_type": "code",
   "execution_count": null,
   "metadata": {},
   "outputs": [],
   "source": []
  }
 ],
 "metadata": {
  "colab": {
   "include_colab_link": true,
   "name": "scrapingmarketsmojoBIG.ipynb",
   "provenance": [],
   "version": "0.3.2"
  },
  "kernelspec": {
   "display_name": "Python 3",
   "language": "python",
   "name": "python3"
  },
  "language_info": {
   "codemirror_mode": {
    "name": "ipython",
    "version": 3
   },
   "file_extension": ".py",
   "mimetype": "text/x-python",
   "name": "python",
   "nbconvert_exporter": "python",
   "pygments_lexer": "ipython3",
   "version": "3.7.4"
  }
 },
 "nbformat": 4,
 "nbformat_minor": 1
}
