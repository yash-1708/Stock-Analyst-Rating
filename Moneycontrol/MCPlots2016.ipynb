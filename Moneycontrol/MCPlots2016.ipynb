{
 "cells": [
  {
   "cell_type": "code",
   "execution_count": 1,
   "metadata": {},
   "outputs": [],
   "source": [
    "import pandas as pd\n",
    "import numpy as np\n",
    "\n",
    "import mysql.connector\n",
    "from sqlalchemy import create_engine\n",
    "import pandas.io.sql as psql\n",
    "import sqlalchemy\n",
    "\n",
    "from dateutil import parser\n",
    "from datetime import datetime\n",
    "from datetime import date\n",
    "from dateutil.relativedelta import relativedelta\n",
    "\n",
    "from sklearn.cluster import KMeans\n",
    "import matplotlib.pyplot as plt\n",
    "import seaborn as sns\n",
    "from sklearn.naive_bayes import GaussianNB\n",
    "from sklearn.model_selection import train_test_split"
   ]
  },
  {
   "cell_type": "code",
   "execution_count": 2,
   "metadata": {},
   "outputs": [],
   "source": [
    "database_username = 'root'\n",
    "database_password = 'yash'\n",
    "database_ip       = '127.0.0.1'\n",
    "database_name     = 'mainschema'\n",
    "database_connection = sqlalchemy.create_engine('mysql+mysqlconnector://{0}:{1}@{2}/{3}'.\n",
    "                                               format(database_username, database_password, \n",
    "                                                      database_ip, database_name))"
   ]
  },
  {
   "cell_type": "code",
   "execution_count": 3,
   "metadata": {
    "scrolled": true
   },
   "outputs": [
    {
     "data": {
      "text/html": [
       "<div>\n",
       "<style scoped>\n",
       "    .dataframe tbody tr th:only-of-type {\n",
       "        vertical-align: middle;\n",
       "    }\n",
       "\n",
       "    .dataframe tbody tr th {\n",
       "        vertical-align: top;\n",
       "    }\n",
       "\n",
       "    .dataframe thead th {\n",
       "        text-align: right;\n",
       "    }\n",
       "</style>\n",
       "<table border=\"1\" class=\"dataframe\">\n",
       "  <thead>\n",
       "    <tr style=\"text-align: right;\">\n",
       "      <th></th>\n",
       "      <th>Name</th>\n",
       "      <th>Hit Ratio</th>\n",
       "      <th>Avg. Growth</th>\n",
       "      <th>Total Recos</th>\n",
       "    </tr>\n",
       "  </thead>\n",
       "  <tbody>\n",
       "    <tr>\n",
       "      <td>0</td>\n",
       "      <td>Motilal Oswal</td>\n",
       "      <td>44</td>\n",
       "      <td>22</td>\n",
       "      <td>109</td>\n",
       "    </tr>\n",
       "    <tr>\n",
       "      <td>1</td>\n",
       "      <td>Arihant Capital</td>\n",
       "      <td>50</td>\n",
       "      <td>33</td>\n",
       "      <td>2</td>\n",
       "    </tr>\n",
       "    <tr>\n",
       "      <td>2</td>\n",
       "      <td>ICICI Securties</td>\n",
       "      <td>0</td>\n",
       "      <td>0</td>\n",
       "      <td>1</td>\n",
       "    </tr>\n",
       "    <tr>\n",
       "      <td>3</td>\n",
       "      <td>AUM Capital</td>\n",
       "      <td>100</td>\n",
       "      <td>52</td>\n",
       "      <td>7</td>\n",
       "    </tr>\n",
       "    <tr>\n",
       "      <td>4</td>\n",
       "      <td>Edelweiss</td>\n",
       "      <td>55</td>\n",
       "      <td>25</td>\n",
       "      <td>120</td>\n",
       "    </tr>\n",
       "    <tr>\n",
       "      <td>...</td>\n",
       "      <td>...</td>\n",
       "      <td>...</td>\n",
       "      <td>...</td>\n",
       "      <td>...</td>\n",
       "    </tr>\n",
       "    <tr>\n",
       "      <td>89</td>\n",
       "      <td>Khambatta securities</td>\n",
       "      <td>50</td>\n",
       "      <td>46</td>\n",
       "      <td>2</td>\n",
       "    </tr>\n",
       "    <tr>\n",
       "      <td>90</td>\n",
       "      <td>Shubham Agarwal</td>\n",
       "      <td>50</td>\n",
       "      <td>4</td>\n",
       "      <td>2</td>\n",
       "    </tr>\n",
       "    <tr>\n",
       "      <td>91</td>\n",
       "      <td>Mayuresh Joshi</td>\n",
       "      <td>100</td>\n",
       "      <td>52</td>\n",
       "      <td>1</td>\n",
       "    </tr>\n",
       "    <tr>\n",
       "      <td>92</td>\n",
       "      <td>Simi Bhaumik</td>\n",
       "      <td>100</td>\n",
       "      <td>16</td>\n",
       "      <td>1</td>\n",
       "    </tr>\n",
       "    <tr>\n",
       "      <td>93</td>\n",
       "      <td>Bhavin Desai</td>\n",
       "      <td>100</td>\n",
       "      <td>58</td>\n",
       "      <td>1</td>\n",
       "    </tr>\n",
       "  </tbody>\n",
       "</table>\n",
       "<p>94 rows × 4 columns</p>\n",
       "</div>"
      ],
      "text/plain": [
       "                    Name  Hit Ratio  Avg. Growth  Total Recos\n",
       "0          Motilal Oswal         44           22          109\n",
       "1        Arihant Capital         50           33            2\n",
       "2        ICICI Securties          0            0            1\n",
       "3            AUM Capital        100           52            7\n",
       "4              Edelweiss         55           25          120\n",
       "..                   ...        ...          ...          ...\n",
       "89  Khambatta securities         50           46            2\n",
       "90       Shubham Agarwal         50            4            2\n",
       "91        Mayuresh Joshi        100           52            1\n",
       "92          Simi Bhaumik        100           16            1\n",
       "93          Bhavin Desai        100           58            1\n",
       "\n",
       "[94 rows x 4 columns]"
      ]
     },
     "execution_count": 3,
     "metadata": {},
     "output_type": "execute_result"
    }
   ],
   "source": [
    "df = pd.read_sql('SELECT * FROM mcbrokerperformance2016', con=database_connection)\n",
    "del df['index']\n",
    "df"
   ]
  },
  {
   "cell_type": "markdown",
   "metadata": {},
   "source": [
    "## Growth"
   ]
  },
  {
   "cell_type": "code",
   "execution_count": 4,
   "metadata": {
    "scrolled": true
   },
   "outputs": [
    {
     "data": {
      "text/plain": [
       "<function matplotlib.pyplot.show(*args, **kw)>"
      ]
     },
     "execution_count": 4,
     "metadata": {},
     "output_type": "execute_result"
    },
    {
     "data": {
      "image/png": "[encoded data removed]",
      "text/plain": [
       "<Figure size 720x720 with 1 Axes>"
      ]
     },
     "metadata": {
      "needs_background": "light"
     },
     "output_type": "display_data"
    }
   ],
   "source": [
    "X1 = df[['Avg. Growth','Avg. Growth']]\n",
    "model1 = KMeans(n_clusters=5).fit(X1)\n",
    "centroids1 = model1.cluster_centers_\n",
    "sortedcentroids1 = centroids1[:,0].copy()\n",
    "sortedcentroids1.sort(axis=0)\n",
    "labeldict1 = {}\n",
    "for i in centroids1[:,0] :\n",
    "    x = list(sortedcentroids1).index(i)\n",
    "    y = list(centroids1[:,0]).index(i)\n",
    "    labeldict1[y] = x\n",
    "    unsortedlabels1 = model1.predict(X1)\n",
    "sortedlabels1 = []\n",
    "for element in unsortedlabels1 :\n",
    "    sortedlabels1.append(labeldict1[element]+1)\n",
    "plt.figure(figsize=(10,10))\n",
    "plt.scatter(df['Avg. Growth'], df['Avg. Growth'], c= unsortedlabels1, s=25, alpha=0.5)\n",
    "plt.scatter(centroids1[:, 0], centroids1[:, 1], c='red', s=50)\n",
    "plt.show\n",
    "#print(\"-----------------------------------------------------\")\n",
    "#print(\"unsortedlabels1 : \",unsortedlabels1)\n",
    "#print(\"-----------------------------------------------------\")\n",
    "#print(\"sortedlabels1 : \",sortedlabels1)\n",
    "#print(\"-----------------------------------------------------\")\n",
    "#print(\"labeldict1 : \",labeldict1)\n",
    "#print(\"-----------------------------------------------------\")\n",
    "#print(\"centroids1 : \",centroids1[:, 0])\n",
    "#print(\"-----------------------------------------------------\")\n",
    "#print(\"sortedcentroids1 : \",sortedcentroids1)\n",
    "#print(\"-----------------------------------------------------\")"
   ]
  },
  {
   "cell_type": "markdown",
   "metadata": {},
   "source": [
    "## Total Recos"
   ]
  },
  {
   "cell_type": "code",
   "execution_count": 5,
   "metadata": {},
   "outputs": [
    {
     "data": {
      "text/plain": [
       "<function matplotlib.pyplot.show(*args, **kw)>"
      ]
     },
     "execution_count": 5,
     "metadata": {},
     "output_type": "execute_result"
    },
    {
     "data": {
      "image/png": "[encoded data removed]",
      "text/plain": [
       "<Figure size 720x720 with 1 Axes>"
      ]
     },
     "metadata": {
      "needs_background": "light"
     },
     "output_type": "display_data"
    }
   ],
   "source": [
    "X2 = df[['Total Recos','Total Recos']]\n",
    "model2 = KMeans(n_clusters=5).fit(X2)\n",
    "centroids2 = model2.cluster_centers_\n",
    "sortedcentroids2 = centroids2[:,0].copy()\n",
    "sortedcentroids2.sort(axis=0)\n",
    "labeldict2 = {}\n",
    "for i in centroids2[:,0] :\n",
    "    x = list(sortedcentroids2).index(i)\n",
    "    y = list(centroids2[:,0]).index(i)\n",
    "    labeldict2[y] = x\n",
    "    unsortedlabels2 = model2.predict(X2)\n",
    "sortedlabels2 = []\n",
    "for element in unsortedlabels2 :\n",
    "    sortedlabels2.append(labeldict2[element]+1)\n",
    "plt.figure(figsize=(10,10))\n",
    "plt.scatter(df['Total Recos'], df['Total Recos'], c= unsortedlabels2, s=25, alpha=0.5)\n",
    "plt.scatter(centroids2[:, 0], centroids2[:, 1], c='red', s=50)\n",
    "plt.show"
   ]
  },
  {
   "cell_type": "markdown",
   "metadata": {},
   "source": [
    "## Hit Ratio"
   ]
  },
  {
   "cell_type": "code",
   "execution_count": 6,
   "metadata": {},
   "outputs": [
    {
     "data": {
      "text/plain": [
       "<function matplotlib.pyplot.show(*args, **kw)>"
      ]
     },
     "execution_count": 6,
     "metadata": {},
     "output_type": "execute_result"
    },
    {
     "data": {
      "image/png": "[encoded data removed]",
      "text/plain": [
       "<Figure size 720x720 with 1 Axes>"
      ]
     },
     "metadata": {
      "needs_background": "light"
     },
     "output_type": "display_data"
    }
   ],
   "source": [
    "X3 = df[['Hit Ratio','Hit Ratio']]\n",
    "model3 = KMeans(n_clusters=5).fit(X3)\n",
    "centroids3 = model3.cluster_centers_\n",
    "sortedcentroids3 = centroids3[:,0].copy()\n",
    "sortedcentroids3.sort(axis=0)\n",
    "labeldict3 = {}\n",
    "for i in centroids3[:,0] :\n",
    "    x = list(sortedcentroids3).index(i)\n",
    "    y = list(centroids3[:,0]).index(i)\n",
    "    labeldict3[y] = x\n",
    "    unsortedlabels3 = model3.predict(X3)\n",
    "sortedlabels3 = []\n",
    "for element in unsortedlabels3 :\n",
    "    sortedlabels3.append(labeldict3[element]+1)\n",
    "plt.figure(figsize=(10,10))\n",
    "plt.scatter(df['Hit Ratio'], df['Hit Ratio'], c= unsortedlabels3, s=25, alpha=0.5)\n",
    "plt.scatter(centroids3[:, 0], centroids3[:, 1], c='red', s=50)\n",
    "plt.show"
   ]
  },
  {
   "cell_type": "code",
   "execution_count": 7,
   "metadata": {
    "scrolled": true
   },
   "outputs": [
    {
     "data": {
      "text/html": [
       "<div>\n",
       "<style scoped>\n",
       "    .dataframe tbody tr th:only-of-type {\n",
       "        vertical-align: middle;\n",
       "    }\n",
       "\n",
       "    .dataframe tbody tr th {\n",
       "        vertical-align: top;\n",
       "    }\n",
       "\n",
       "    .dataframe thead th {\n",
       "        text-align: right;\n",
       "    }\n",
       "</style>\n",
       "<table border=\"1\" class=\"dataframe\">\n",
       "  <thead>\n",
       "    <tr style=\"text-align: right;\">\n",
       "      <th></th>\n",
       "      <th>broker</th>\n",
       "      <th>Hit Ratio</th>\n",
       "      <th>Avg. Growth</th>\n",
       "      <th>Total Recos</th>\n",
       "    </tr>\n",
       "  </thead>\n",
       "  <tbody>\n",
       "    <tr>\n",
       "      <td>0</td>\n",
       "      <td>Motilal Oswal</td>\n",
       "      <td>2</td>\n",
       "      <td>2</td>\n",
       "      <td>5</td>\n",
       "    </tr>\n",
       "    <tr>\n",
       "      <td>1</td>\n",
       "      <td>Arihant Capital</td>\n",
       "      <td>3</td>\n",
       "      <td>2</td>\n",
       "      <td>1</td>\n",
       "    </tr>\n",
       "    <tr>\n",
       "      <td>2</td>\n",
       "      <td>ICICI Securties</td>\n",
       "      <td>1</td>\n",
       "      <td>1</td>\n",
       "      <td>1</td>\n",
       "    </tr>\n",
       "    <tr>\n",
       "      <td>3</td>\n",
       "      <td>AUM Capital</td>\n",
       "      <td>5</td>\n",
       "      <td>3</td>\n",
       "      <td>1</td>\n",
       "    </tr>\n",
       "    <tr>\n",
       "      <td>4</td>\n",
       "      <td>Edelweiss</td>\n",
       "      <td>3</td>\n",
       "      <td>2</td>\n",
       "      <td>5</td>\n",
       "    </tr>\n",
       "    <tr>\n",
       "      <td>...</td>\n",
       "      <td>...</td>\n",
       "      <td>...</td>\n",
       "      <td>...</td>\n",
       "      <td>...</td>\n",
       "    </tr>\n",
       "    <tr>\n",
       "      <td>89</td>\n",
       "      <td>Khambatta securities</td>\n",
       "      <td>3</td>\n",
       "      <td>3</td>\n",
       "      <td>1</td>\n",
       "    </tr>\n",
       "    <tr>\n",
       "      <td>90</td>\n",
       "      <td>Shubham Agarwal</td>\n",
       "      <td>3</td>\n",
       "      <td>1</td>\n",
       "      <td>1</td>\n",
       "    </tr>\n",
       "    <tr>\n",
       "      <td>91</td>\n",
       "      <td>Mayuresh Joshi</td>\n",
       "      <td>5</td>\n",
       "      <td>3</td>\n",
       "      <td>1</td>\n",
       "    </tr>\n",
       "    <tr>\n",
       "      <td>92</td>\n",
       "      <td>Simi Bhaumik</td>\n",
       "      <td>5</td>\n",
       "      <td>2</td>\n",
       "      <td>1</td>\n",
       "    </tr>\n",
       "    <tr>\n",
       "      <td>93</td>\n",
       "      <td>Bhavin Desai</td>\n",
       "      <td>5</td>\n",
       "      <td>3</td>\n",
       "      <td>1</td>\n",
       "    </tr>\n",
       "  </tbody>\n",
       "</table>\n",
       "<p>94 rows × 4 columns</p>\n",
       "</div>"
      ],
      "text/plain": [
       "                  broker  Hit Ratio  Avg. Growth  Total Recos\n",
       "0          Motilal Oswal          2            2            5\n",
       "1        Arihant Capital          3            2            1\n",
       "2        ICICI Securties          1            1            1\n",
       "3            AUM Capital          5            3            1\n",
       "4              Edelweiss          3            2            5\n",
       "..                   ...        ...          ...          ...\n",
       "89  Khambatta securities          3            3            1\n",
       "90       Shubham Agarwal          3            1            1\n",
       "91        Mayuresh Joshi          5            3            1\n",
       "92          Simi Bhaumik          5            2            1\n",
       "93          Bhavin Desai          5            3            1\n",
       "\n",
       "[94 rows x 4 columns]"
      ]
     },
     "execution_count": 7,
     "metadata": {},
     "output_type": "execute_result"
    }
   ],
   "source": [
    "dfanalysis = pd.DataFrame({'broker': df['Name'], 'Hit Ratio': sortedlabels3,'Avg. Growth' : sortedlabels1, 'Total Recos' : sortedlabels2})\n",
    "dfanalysis"
   ]
  },
  {
   "cell_type": "markdown",
   "metadata": {},
   "source": [
    "## Naive Bayes"
   ]
  },
  {
   "cell_type": "code",
   "execution_count": 8,
   "metadata": {},
   "outputs": [],
   "source": [
    "dictstar1 = {1:1,   2:0.8, 3:0.6, 4:0.4, 5:0 }\n",
    "dictstar2 = {1:0.8, 2:1,   3:0.8, 4:0.6, 5:0.4 }\n",
    "dictstar3 = {1:0.6, 2:0.8, 3:1,   4:0.8, 5:0.6 }\n",
    "dictstar4 = {1:0.4, 2:0.6, 3:0.8, 4:1,   5:0.6 }\n",
    "dictstar5 = {1:0.2, 2:0.4, 3:0.6, 4:0.8, 5:1 }"
   ]
  },
  {
   "cell_type": "code",
   "execution_count": 9,
   "metadata": {},
   "outputs": [],
   "source": [
    "star = []\n",
    "for index, row in dfanalysis.iterrows():\n",
    "    hr = row['Hit Ratio']\n",
    "    ag = row['Avg. Growth']\n",
    "    tr = row['Total Recos']\n",
    "    probabilities = []\n",
    "    probabilities.append(dictstar1[hr]*dictstar1[ag]*dictstar1[tr]) \n",
    "    probabilities.append(dictstar2[hr]*dictstar2[ag]*dictstar2[tr]) \n",
    "    probabilities.append(dictstar3[hr]*dictstar3[ag]*dictstar3[tr]) \n",
    "    probabilities.append(dictstar4[hr]*dictstar4[ag]*dictstar4[tr]) \n",
    "    probabilities.append(dictstar5[hr]*dictstar5[ag]*dictstar5[tr]) \n",
    "    rating = probabilities.index(max(probabilities))+1\n",
    "    star.append(rating)"
   ]
  },
  {
   "cell_type": "code",
   "execution_count": 10,
   "metadata": {},
   "outputs": [
    {
     "data": {
      "text/html": [
       "<div>\n",
       "<style scoped>\n",
       "    .dataframe tbody tr th:only-of-type {\n",
       "        vertical-align: middle;\n",
       "    }\n",
       "\n",
       "    .dataframe tbody tr th {\n",
       "        vertical-align: top;\n",
       "    }\n",
       "\n",
       "    .dataframe thead th {\n",
       "        text-align: right;\n",
       "    }\n",
       "</style>\n",
       "<table border=\"1\" class=\"dataframe\">\n",
       "  <thead>\n",
       "    <tr style=\"text-align: right;\">\n",
       "      <th></th>\n",
       "      <th>broker</th>\n",
       "      <th>Hit Ratio</th>\n",
       "      <th>Avg. Growth</th>\n",
       "      <th>Total Recos</th>\n",
       "      <th>Rating</th>\n",
       "    </tr>\n",
       "  </thead>\n",
       "  <tbody>\n",
       "    <tr>\n",
       "      <td>0</td>\n",
       "      <td>Motilal Oswal</td>\n",
       "      <td>2</td>\n",
       "      <td>2</td>\n",
       "      <td>5</td>\n",
       "      <td>2</td>\n",
       "    </tr>\n",
       "    <tr>\n",
       "      <td>1</td>\n",
       "      <td>Arihant Capital</td>\n",
       "      <td>3</td>\n",
       "      <td>2</td>\n",
       "      <td>1</td>\n",
       "      <td>2</td>\n",
       "    </tr>\n",
       "    <tr>\n",
       "      <td>2</td>\n",
       "      <td>ICICI Securties</td>\n",
       "      <td>1</td>\n",
       "      <td>1</td>\n",
       "      <td>1</td>\n",
       "      <td>1</td>\n",
       "    </tr>\n",
       "    <tr>\n",
       "      <td>3</td>\n",
       "      <td>AUM Capital</td>\n",
       "      <td>5</td>\n",
       "      <td>3</td>\n",
       "      <td>1</td>\n",
       "      <td>3</td>\n",
       "    </tr>\n",
       "    <tr>\n",
       "      <td>4</td>\n",
       "      <td>Edelweiss</td>\n",
       "      <td>3</td>\n",
       "      <td>2</td>\n",
       "      <td>5</td>\n",
       "      <td>3</td>\n",
       "    </tr>\n",
       "    <tr>\n",
       "      <td>...</td>\n",
       "      <td>...</td>\n",
       "      <td>...</td>\n",
       "      <td>...</td>\n",
       "      <td>...</td>\n",
       "      <td>...</td>\n",
       "    </tr>\n",
       "    <tr>\n",
       "      <td>89</td>\n",
       "      <td>Khambatta securities</td>\n",
       "      <td>3</td>\n",
       "      <td>3</td>\n",
       "      <td>1</td>\n",
       "      <td>3</td>\n",
       "    </tr>\n",
       "    <tr>\n",
       "      <td>90</td>\n",
       "      <td>Shubham Agarwal</td>\n",
       "      <td>3</td>\n",
       "      <td>1</td>\n",
       "      <td>1</td>\n",
       "      <td>1</td>\n",
       "    </tr>\n",
       "    <tr>\n",
       "      <td>91</td>\n",
       "      <td>Mayuresh Joshi</td>\n",
       "      <td>5</td>\n",
       "      <td>3</td>\n",
       "      <td>1</td>\n",
       "      <td>3</td>\n",
       "    </tr>\n",
       "    <tr>\n",
       "      <td>92</td>\n",
       "      <td>Simi Bhaumik</td>\n",
       "      <td>5</td>\n",
       "      <td>2</td>\n",
       "      <td>1</td>\n",
       "      <td>2</td>\n",
       "    </tr>\n",
       "    <tr>\n",
       "      <td>93</td>\n",
       "      <td>Bhavin Desai</td>\n",
       "      <td>5</td>\n",
       "      <td>3</td>\n",
       "      <td>1</td>\n",
       "      <td>3</td>\n",
       "    </tr>\n",
       "  </tbody>\n",
       "</table>\n",
       "<p>94 rows × 5 columns</p>\n",
       "</div>"
      ],
      "text/plain": [
       "                  broker  Hit Ratio  Avg. Growth  Total Recos  Rating\n",
       "0          Motilal Oswal          2            2            5       2\n",
       "1        Arihant Capital          3            2            1       2\n",
       "2        ICICI Securties          1            1            1       1\n",
       "3            AUM Capital          5            3            1       3\n",
       "4              Edelweiss          3            2            5       3\n",
       "..                   ...        ...          ...          ...     ...\n",
       "89  Khambatta securities          3            3            1       3\n",
       "90       Shubham Agarwal          3            1            1       1\n",
       "91        Mayuresh Joshi          5            3            1       3\n",
       "92          Simi Bhaumik          5            2            1       2\n",
       "93          Bhavin Desai          5            3            1       3\n",
       "\n",
       "[94 rows x 5 columns]"
      ]
     },
     "execution_count": 10,
     "metadata": {},
     "output_type": "execute_result"
    }
   ],
   "source": [
    "dfanalysis['Rating'] = star\n",
    "dfanalysis"
   ]
  },
  {
   "cell_type": "code",
   "execution_count": 11,
   "metadata": {},
   "outputs": [],
   "source": [
    "dfanalysis.to_sql(con=database_connection, name='mcfinalrating2016', if_exists='replace')"
   ]
  }
 ],
 "metadata": {
  "kernelspec": {
   "display_name": "Python 3",
   "language": "python",
   "name": "python3"
  },
  "language_info": {
   "codemirror_mode": {
    "name": "ipython",
    "version": 3
   },
   "file_extension": ".py",
   "mimetype": "text/x-python",
   "name": "python",
   "nbconvert_exporter": "python",
   "pygments_lexer": "ipython3",
   "version": "3.7.4"
  }
 },
 "nbformat": 4,
 "nbformat_minor": 2
}
